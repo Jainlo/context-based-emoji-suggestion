{
 "cells": [
  {
   "cell_type": "markdown",
   "metadata": {},
   "source": [
    "# Part I: Emotion classification\n",
    "The problem type is supervised multiclass classification and the target is the emotion, with the different classes being ('sadness', 'anger', 'love', 'surprise', 'fear', 'joy').  \n",
    "To do this we're going to apply transfer learning by using a model pre-trained specifically on this task  \n",
    "The model is provided by hugging face\n",
    "https://huggingface.co/mrm8488/t5-base-finetuned-emotion"
   ]
  },
  {
   "attachments": {},
   "cell_type": "markdown",
   "metadata": {},
   "source": [
    "## 1.1 Prerequisites"
   ]
  },
  {
   "cell_type": "code",
   "execution_count": 1,
   "metadata": {},
   "outputs": [],
   "source": [
    "import numpy as np # linear algebra\n",
    "import pandas as pd # data processing, CSV file I/O (e.g. pd.read_csv)\n",
    "from transformers import AutoTokenizer, AutoModelWithLMHead"
   ]
  },
  {
   "attachments": {},
   "cell_type": "markdown",
   "metadata": {},
   "source": [
    "## 1.2 Transfer learning"
   ]
  },
  {
   "cell_type": "code",
   "execution_count": 2,
   "metadata": {},
   "outputs": [
    {
     "name": "stderr",
     "output_type": "stream",
     "text": [
      "c:\\Users\\Lujai\\anaconda3\\envs\\capstone-proj\\lib\\site-packages\\transformers\\models\\auto\\modeling_auto.py:1177: FutureWarning: The class `AutoModelWithLMHead` is deprecated and will be removed in a future version. Please use `AutoModelForCausalLM` for causal language models, `AutoModelForMaskedLM` for masked language models and `AutoModelForSeq2SeqLM` for encoder-decoder models.\n",
      "  warnings.warn(\n"
     ]
    },
    {
     "data": {
      "text/plain": [
       "'<pad> sadness'"
      ]
     },
     "execution_count": 2,
     "metadata": {},
     "output_type": "execute_result"
    }
   ],
   "source": [
    "# hugging face tokenizer\n",
    "tokenizer = AutoTokenizer.from_pretrained(\"mrm8488/t5-base-finetuned-emotion\")\n",
    "# load the model which is already trained on emotion dataset\n",
    "model = AutoModelWithLMHead.from_pretrained(\"mrm8488/t5-base-finetuned-emotion\")\n",
    "# function that takes input and returns emotion\n",
    "def get_emotion(text):\n",
    "  input_ids = tokenizer.encode(text + '</s>', return_tensors='pt')\n",
    "\n",
    "  output = model.generate(input_ids=input_ids,\n",
    "               max_length=2)\n",
    "  \n",
    "  dec = [tokenizer.decode(ids) for ids in output]\n",
    "  label = dec[0]\n",
    "  return label\n",
    "  \n",
    "#get_emotion(\"i feel as if i havent blogged in ages are at least truly blogged i am doing an update cute\") # Output: 'joy'\n",
    " \n",
    "get_emotion(\"i have a feeling i kinda lost my best friend\") # Output: 'sadness'"
   ]
  },
  {
   "cell_type": "markdown",
   "metadata": {},
   "source": [
    "# Part II: Emoji emotion classification\n",
    "In this part, we're going to use the previous trained model to help us predict the emotions of the emojis. The feature is the emoji name, e.g., FACE WITH TEARS OF JOY. and the target variable is the emotion.\n"
   ]
  },
  {
   "attachments": {},
   "cell_type": "markdown",
   "metadata": {},
   "source": [
    "## 2.1 Read the tweet-emoji dataset"
   ]
  },
  {
   "cell_type": "code",
   "execution_count": 3,
   "metadata": {},
   "outputs": [],
   "source": [
    "# the problem with this dataset is that it saves the names of the emojis not the emojis themselves # we will solve this by merging it with another dataset\n",
    "tweets = pd.read_csv(\"../../../Desktop/tweets_emojis.csv\") #problem: some unicode names here don't match unicode names in emoji dataset\n"
   ]
  },
  {
   "cell_type": "code",
   "execution_count": 4,
   "metadata": {},
   "outputs": [],
   "source": [
    "# delete uneeded column\n",
    "tweets.drop('Unnamed: 0', axis=1,inplace=True)"
   ]
  },
  {
   "cell_type": "code",
   "execution_count": 5,
   "metadata": {},
   "outputs": [],
   "source": [
    "tweets['Unicode name'] = tweets['emoji']\n",
    "# remove all characters that are not letters or numbers # save it in new column called unicode name to help with merge later\n",
    "tweets['Unicode name'] = tweets['Unicode name'].str.replace('_', ' ')\n",
    "# convert to upper case\n",
    "tweets['Unicode name']= tweets['Unicode name'].apply(lambda names: names.upper())"
   ]
  },
  {
   "cell_type": "code",
   "execution_count": 7,
   "metadata": {},
   "outputs": [],
   "source": [
    "# drop old column\n",
    "tweets.drop('emoji', axis=1, inplace=True)"
   ]
  },
  {
   "cell_type": "code",
   "execution_count": 6,
   "metadata": {},
   "outputs": [
    {
     "data": {
      "text/plain": [
       "0                 FACE WITH TEARS OF JOY\n",
       "1                 FACE WITH TEARS OF JOY\n",
       "2                              THUMBS UP\n",
       "3                 FACE WITH TEARS OF JOY\n",
       "4                         CLAPPING HANDS\n",
       "                       ...              \n",
       "1320030                        MALE SIGN\n",
       "1320031    BACKHAND INDEX POINTING RIGHT\n",
       "1320032                     FLUSHED FACE\n",
       "1320033                 PERSON SHRUGGING\n",
       "1320034                    RAISING HANDS\n",
       "Name: Unicode name, Length: 1320035, dtype: object"
      ]
     },
     "execution_count": 6,
     "metadata": {},
     "output_type": "execute_result"
    }
   ],
   "source": [
    "tweets['Unicode name']"
   ]
  },
  {
   "cell_type": "code",
   "execution_count": 8,
   "metadata": {},
   "outputs": [
    {
     "data": {
      "text/html": [
       "<div>\n",
       "<style scoped>\n",
       "    .dataframe tbody tr th:only-of-type {\n",
       "        vertical-align: middle;\n",
       "    }\n",
       "\n",
       "    .dataframe tbody tr th {\n",
       "        vertical-align: top;\n",
       "    }\n",
       "\n",
       "    .dataframe thead th {\n",
       "        text-align: right;\n",
       "    }\n",
       "</style>\n",
       "<table border=\"1\" class=\"dataframe\">\n",
       "  <thead>\n",
       "    <tr style=\"text-align: right;\">\n",
       "      <th></th>\n",
       "      <th>text</th>\n",
       "      <th>Unicode name</th>\n",
       "    </tr>\n",
       "  </thead>\n",
       "  <tbody>\n",
       "    <tr>\n",
       "      <th>0</th>\n",
       "      <td>Idk who taught my baby this BS  ️  IGmeetthesa...</td>\n",
       "      <td>FACE WITH TEARS OF JOY</td>\n",
       "    </tr>\n",
       "    <tr>\n",
       "      <th>1</th>\n",
       "      <td>Thats me in every lesson</td>\n",
       "      <td>FACE WITH TEARS OF JOY</td>\n",
       "    </tr>\n",
       "    <tr>\n",
       "      <th>2</th>\n",
       "      <td>There are MANY of you  🇺 🇸  🇺 🇸  🇮 🇱</td>\n",
       "      <td>THUMBS UP</td>\n",
       "    </tr>\n",
       "    <tr>\n",
       "      <th>3</th>\n",
       "      <td>Partner strategy LLRC  Urban naxal theories ar...</td>\n",
       "      <td>FACE WITH TEARS OF JOY</td>\n",
       "    </tr>\n",
       "    <tr>\n",
       "      <th>4</th>\n",
       "      <td>Happy Birthday More blessings Matsatsi  🏽  Hop...</td>\n",
       "      <td>CLAPPING HANDS</td>\n",
       "    </tr>\n",
       "  </tbody>\n",
       "</table>\n",
       "</div>"
      ],
      "text/plain": [
       "                                                text            Unicode name\n",
       "0  Idk who taught my baby this BS  ️  IGmeetthesa...  FACE WITH TEARS OF JOY\n",
       "1                          Thats me in every lesson   FACE WITH TEARS OF JOY\n",
       "2               There are MANY of you  🇺 🇸  🇺 🇸  🇮 🇱               THUMBS UP\n",
       "3  Partner strategy LLRC  Urban naxal theories ar...  FACE WITH TEARS OF JOY\n",
       "4  Happy Birthday More blessings Matsatsi  🏽  Hop...          CLAPPING HANDS"
      ]
     },
     "execution_count": 8,
     "metadata": {},
     "output_type": "execute_result"
    }
   ],
   "source": [
    "tweets.head()"
   ]
  },
  {
   "cell_type": "code",
   "execution_count": 9,
   "metadata": {},
   "outputs": [
    {
     "data": {
      "text/plain": [
       "FACE WITH TEARS OF JOY            210309\n",
       "RED HEART                         103172\n",
       "LOUDLY CRYING FACE                 82659\n",
       "SMILING FACE WITH HEART-EYES       67817\n",
       "FIRE                               51030\n",
       "FEMALE SIGN                        50941\n",
       "MALE SIGN                          34149\n",
       "FOLDED HANDS                       32273\n",
       "WEARY FACE                         30489\n",
       "TWO HEARTS                         30049\n",
       "PERSON SHRUGGING                   29903\n",
       "SMILING FACE WITH SMILING EYES     28519\n",
       "RAISING HANDS                      26444\n",
       "THINKING FACE                      26362\n",
       "PERSON FACEPALMING                 24303\n",
       "HUNDRED POINTS                     23743\n",
       "SPARKLES                           23532\n",
       "FACE WITH ROLLING EYES             21917\n",
       "CLAPPING HANDS                     21462\n",
       "ROLLING ON THE FLOOR LAUGHING      21335\n",
       "FACE BLOWING A KISS                20878\n",
       "EYES                               20824\n",
       "THUMBS UP                          19456\n",
       "BACKHAND INDEX POINTING RIGHT      17971\n",
       "FLEXED BICEPS                      16634\n",
       "PURPLE HEART                       16457\n",
       "PARTY POPPER                       16259\n",
       "WINKING FACE                       16075\n",
       "BLUE HEART                         15941\n",
       "SMILING FACE WITH SUNGLASSES       15322\n",
       "OK HAND                            14990\n",
       "SPARKLING HEART                    14614\n",
       "BEAMING FACE WITH SMILING EYES     14568\n",
       "HEART SUIT                         14260\n",
       "DOUBLE EXCLAMATION MARK            13951\n",
       "POLICE CAR LIGHT                   12552\n",
       "SMILING FACE                       12338\n",
       "BACKHAND INDEX POINTING DOWN       12075\n",
       "SKULL                              11976\n",
       "CRYING FACE                        11265\n",
       "YELLOW HEART                       10100\n",
       "RIGHT ARROW                         9094\n",
       "SPEAKING HEAD                       9031\n",
       "FLUSHED FACE                        8449\n",
       "COLLISION                           8363\n",
       "WHITE HEAVY CHECK MARK              7192\n",
       "TROPHY                              6892\n",
       "GLOWING STAR                        6189\n",
       "HEAVY CHECK MARK                    5911\n",
       "Name: Unicode name, dtype: int64"
      ]
     },
     "execution_count": 9,
     "metadata": {},
     "output_type": "execute_result"
    }
   ],
   "source": [
    "tweets['Unicode name'].value_counts()"
   ]
  },
  {
   "attachments": {},
   "cell_type": "markdown",
   "metadata": {},
   "source": [
    "## 2.2 Read the emoji-unicode dataset"
   ]
  },
  {
   "cell_type": "code",
   "execution_count": 10,
   "metadata": {},
   "outputs": [
    {
     "data": {
      "text/html": [
       "<div>\n",
       "<style scoped>\n",
       "    .dataframe tbody tr th:only-of-type {\n",
       "        vertical-align: middle;\n",
       "    }\n",
       "\n",
       "    .dataframe tbody tr th {\n",
       "        vertical-align: top;\n",
       "    }\n",
       "\n",
       "    .dataframe thead th {\n",
       "        text-align: right;\n",
       "    }\n",
       "</style>\n",
       "<table border=\"1\" class=\"dataframe\">\n",
       "  <thead>\n",
       "    <tr style=\"text-align: right;\">\n",
       "      <th></th>\n",
       "      <th>Emoji</th>\n",
       "      <th>Unicode codepoint</th>\n",
       "      <th>Occurrences</th>\n",
       "      <th>Position</th>\n",
       "      <th>Negative</th>\n",
       "      <th>Neutral</th>\n",
       "      <th>Positive</th>\n",
       "      <th>Unicode name</th>\n",
       "      <th>Unicode block</th>\n",
       "    </tr>\n",
       "  </thead>\n",
       "  <tbody>\n",
       "    <tr>\n",
       "      <th>0</th>\n",
       "      <td>😂</td>\n",
       "      <td>0x1f602</td>\n",
       "      <td>14622</td>\n",
       "      <td>0.805101</td>\n",
       "      <td>3614</td>\n",
       "      <td>4163</td>\n",
       "      <td>6845</td>\n",
       "      <td>FACE WITH TEARS OF JOY</td>\n",
       "      <td>Emoticons</td>\n",
       "    </tr>\n",
       "    <tr>\n",
       "      <th>1</th>\n",
       "      <td>❤</td>\n",
       "      <td>0x2764</td>\n",
       "      <td>8050</td>\n",
       "      <td>0.746943</td>\n",
       "      <td>355</td>\n",
       "      <td>1334</td>\n",
       "      <td>6361</td>\n",
       "      <td>HEAVY BLACK HEART</td>\n",
       "      <td>Dingbats</td>\n",
       "    </tr>\n",
       "    <tr>\n",
       "      <th>2</th>\n",
       "      <td>♥</td>\n",
       "      <td>0x2665</td>\n",
       "      <td>7144</td>\n",
       "      <td>0.753806</td>\n",
       "      <td>252</td>\n",
       "      <td>1942</td>\n",
       "      <td>4950</td>\n",
       "      <td>BLACK HEART SUIT</td>\n",
       "      <td>Miscellaneous Symbols</td>\n",
       "    </tr>\n",
       "    <tr>\n",
       "      <th>3</th>\n",
       "      <td>😍</td>\n",
       "      <td>0x1f60d</td>\n",
       "      <td>6359</td>\n",
       "      <td>0.765292</td>\n",
       "      <td>329</td>\n",
       "      <td>1390</td>\n",
       "      <td>4640</td>\n",
       "      <td>SMILING FACE WITH HEART-SHAPED EYES</td>\n",
       "      <td>Emoticons</td>\n",
       "    </tr>\n",
       "    <tr>\n",
       "      <th>4</th>\n",
       "      <td>😭</td>\n",
       "      <td>0x1f62d</td>\n",
       "      <td>5526</td>\n",
       "      <td>0.803352</td>\n",
       "      <td>2412</td>\n",
       "      <td>1218</td>\n",
       "      <td>1896</td>\n",
       "      <td>LOUDLY CRYING FACE</td>\n",
       "      <td>Emoticons</td>\n",
       "    </tr>\n",
       "  </tbody>\n",
       "</table>\n",
       "</div>"
      ],
      "text/plain": [
       "  Emoji Unicode codepoint  Occurrences  Position  Negative  Neutral  Positive  \\\n",
       "0     😂           0x1f602        14622  0.805101      3614     4163      6845   \n",
       "1     ❤            0x2764         8050  0.746943       355     1334      6361   \n",
       "2     ♥            0x2665         7144  0.753806       252     1942      4950   \n",
       "3     😍           0x1f60d         6359  0.765292       329     1390      4640   \n",
       "4     😭           0x1f62d         5526  0.803352      2412     1218      1896   \n",
       "\n",
       "                          Unicode name          Unicode block  \n",
       "0               FACE WITH TEARS OF JOY              Emoticons  \n",
       "1                    HEAVY BLACK HEART               Dingbats  \n",
       "2                     BLACK HEART SUIT  Miscellaneous Symbols  \n",
       "3  SMILING FACE WITH HEART-SHAPED EYES              Emoticons  \n",
       "4                   LOUDLY CRYING FACE              Emoticons  "
      ]
     },
     "execution_count": 10,
     "metadata": {},
     "output_type": "execute_result"
    }
   ],
   "source": [
    "# use this dataset to get the emojis\n",
    "emojis = pd.read_csv(\"../data/emojis/Emoji_Sentiment_Data_v1.0.csv\")\n",
    "emojis.head()"
   ]
  },
  {
   "cell_type": "code",
   "execution_count": 11,
   "metadata": {},
   "outputs": [],
   "source": [
    "# since we dont need all features, only save emoji and name\n",
    "emojis = emojis[['Emoji', 'Unicode name']]"
   ]
  },
  {
   "cell_type": "code",
   "execution_count": 12,
   "metadata": {},
   "outputs": [
    {
     "data": {
      "text/html": [
       "<div>\n",
       "<style scoped>\n",
       "    .dataframe tbody tr th:only-of-type {\n",
       "        vertical-align: middle;\n",
       "    }\n",
       "\n",
       "    .dataframe tbody tr th {\n",
       "        vertical-align: top;\n",
       "    }\n",
       "\n",
       "    .dataframe thead th {\n",
       "        text-align: right;\n",
       "    }\n",
       "</style>\n",
       "<table border=\"1\" class=\"dataframe\">\n",
       "  <thead>\n",
       "    <tr style=\"text-align: right;\">\n",
       "      <th></th>\n",
       "      <th>Emoji</th>\n",
       "      <th>Unicode name</th>\n",
       "    </tr>\n",
       "  </thead>\n",
       "  <tbody>\n",
       "    <tr>\n",
       "      <th>0</th>\n",
       "      <td>😂</td>\n",
       "      <td>FACE WITH TEARS OF JOY</td>\n",
       "    </tr>\n",
       "    <tr>\n",
       "      <th>1</th>\n",
       "      <td>❤</td>\n",
       "      <td>HEAVY BLACK HEART</td>\n",
       "    </tr>\n",
       "    <tr>\n",
       "      <th>2</th>\n",
       "      <td>♥</td>\n",
       "      <td>BLACK HEART SUIT</td>\n",
       "    </tr>\n",
       "    <tr>\n",
       "      <th>3</th>\n",
       "      <td>😍</td>\n",
       "      <td>SMILING FACE WITH HEART-SHAPED EYES</td>\n",
       "    </tr>\n",
       "    <tr>\n",
       "      <th>4</th>\n",
       "      <td>😭</td>\n",
       "      <td>LOUDLY CRYING FACE</td>\n",
       "    </tr>\n",
       "  </tbody>\n",
       "</table>\n",
       "</div>"
      ],
      "text/plain": [
       "  Emoji                         Unicode name\n",
       "0     😂               FACE WITH TEARS OF JOY\n",
       "1     ❤                    HEAVY BLACK HEART\n",
       "2     ♥                     BLACK HEART SUIT\n",
       "3     😍  SMILING FACE WITH HEART-SHAPED EYES\n",
       "4     😭                   LOUDLY CRYING FACE"
      ]
     },
     "execution_count": 12,
     "metadata": {},
     "output_type": "execute_result"
    }
   ],
   "source": [
    "# after\n",
    "emojis.head()"
   ]
  },
  {
   "cell_type": "code",
   "execution_count": 13,
   "metadata": {},
   "outputs": [
    {
     "data": {
      "text/html": [
       "<div>\n",
       "<style scoped>\n",
       "    .dataframe tbody tr th:only-of-type {\n",
       "        vertical-align: middle;\n",
       "    }\n",
       "\n",
       "    .dataframe tbody tr th {\n",
       "        vertical-align: top;\n",
       "    }\n",
       "\n",
       "    .dataframe thead th {\n",
       "        text-align: right;\n",
       "    }\n",
       "</style>\n",
       "<table border=\"1\" class=\"dataframe\">\n",
       "  <thead>\n",
       "    <tr style=\"text-align: right;\">\n",
       "      <th></th>\n",
       "      <th>Emoji</th>\n",
       "      <th>Unicode name</th>\n",
       "      <th>text</th>\n",
       "    </tr>\n",
       "  </thead>\n",
       "  <tbody>\n",
       "    <tr>\n",
       "      <th>0</th>\n",
       "      <td>😂</td>\n",
       "      <td>FACE WITH TEARS OF JOY</td>\n",
       "      <td>Idk who taught my baby this BS  ️  IGmeetthesa...</td>\n",
       "    </tr>\n",
       "    <tr>\n",
       "      <th>1</th>\n",
       "      <td>😂</td>\n",
       "      <td>FACE WITH TEARS OF JOY</td>\n",
       "      <td>Thats me in every lesson</td>\n",
       "    </tr>\n",
       "    <tr>\n",
       "      <th>2</th>\n",
       "      <td>😂</td>\n",
       "      <td>FACE WITH TEARS OF JOY</td>\n",
       "      <td>Partner strategy LLRC  Urban naxal theories ar...</td>\n",
       "    </tr>\n",
       "    <tr>\n",
       "      <th>3</th>\n",
       "      <td>😂</td>\n",
       "      <td>FACE WITH TEARS OF JOY</td>\n",
       "      <td>Dont play with me  🏾 ‍  ️</td>\n",
       "    </tr>\n",
       "    <tr>\n",
       "      <th>4</th>\n",
       "      <td>😂</td>\n",
       "      <td>FACE WITH TEARS OF JOY</td>\n",
       "      <td>To the goofiest boy ever who apparently looks ...</td>\n",
       "    </tr>\n",
       "  </tbody>\n",
       "</table>\n",
       "</div>"
      ],
      "text/plain": [
       "  Emoji            Unicode name  \\\n",
       "0     😂  FACE WITH TEARS OF JOY   \n",
       "1     😂  FACE WITH TEARS OF JOY   \n",
       "2     😂  FACE WITH TEARS OF JOY   \n",
       "3     😂  FACE WITH TEARS OF JOY   \n",
       "4     😂  FACE WITH TEARS OF JOY   \n",
       "\n",
       "                                                text  \n",
       "0  Idk who taught my baby this BS  ️  IGmeetthesa...  \n",
       "1                          Thats me in every lesson   \n",
       "2  Partner strategy LLRC  Urban naxal theories ar...  \n",
       "3                         Dont play with me  🏾 ‍  ️   \n",
       "4  To the goofiest boy ever who apparently looks ...  "
      ]
     },
     "execution_count": 13,
     "metadata": {},
     "output_type": "execute_result"
    }
   ],
   "source": [
    "# merge the two dataset on the unicode name to get a tweet - emoji dataset\n",
    "tweets_emojis = emojis.merge(tweets)\n",
    "tweets_emojis.head()"
   ]
  },
  {
   "cell_type": "code",
   "execution_count": 14,
   "metadata": {},
   "outputs": [
    {
     "data": {
      "text/plain": [
       "(741777, 3)"
      ]
     },
     "execution_count": 14,
     "metadata": {},
     "output_type": "execute_result"
    }
   ],
   "source": [
    "tweets_emojis.shape"
   ]
  },
  {
   "cell_type": "code",
   "execution_count": 15,
   "metadata": {},
   "outputs": [
    {
     "data": {
      "text/plain": [
       "FACE WITH TEARS OF JOY            210309\n",
       "LOUDLY CRYING FACE                 82659\n",
       "FIRE                               51030\n",
       "FEMALE SIGN                        50941\n",
       "MALE SIGN                          34149\n",
       "WEARY FACE                         30489\n",
       "TWO HEARTS                         30049\n",
       "SMILING FACE WITH SMILING EYES     28519\n",
       "SPARKLES                           23532\n",
       "EYES                               20824\n",
       "FLEXED BICEPS                      16634\n",
       "PURPLE HEART                       16457\n",
       "PARTY POPPER                       16259\n",
       "WINKING FACE                       16075\n",
       "BLUE HEART                         15941\n",
       "SMILING FACE WITH SUNGLASSES       15322\n",
       "SPARKLING HEART                    14614\n",
       "SKULL                              11976\n",
       "CRYING FACE                        11265\n",
       "YELLOW HEART                       10100\n",
       "FLUSHED FACE                        8449\n",
       "WHITE HEAVY CHECK MARK              7192\n",
       "TROPHY                              6892\n",
       "GLOWING STAR                        6189\n",
       "HEAVY CHECK MARK                    5911\n",
       "Name: Unicode name, dtype: int64"
      ]
     },
     "execution_count": 15,
     "metadata": {},
     "output_type": "execute_result"
    }
   ],
   "source": [
    "# explore the distribution of emojis\n",
    "tweets_emojis['Unicode name'].value_counts()"
   ]
  },
  {
   "cell_type": "code",
   "execution_count": 16,
   "metadata": {},
   "outputs": [
    {
     "data": {
      "text/plain": [
       "0"
      ]
     },
     "execution_count": 16,
     "metadata": {},
     "output_type": "execute_result"
    }
   ],
   "source": [
    "tweets_emojis.duplicated().sum()"
   ]
  },
  {
   "cell_type": "code",
   "execution_count": 17,
   "metadata": {},
   "outputs": [],
   "source": [
    "# since this dataframe is too large, we need a way to query info more efficiently so we create a dictionary\n",
    "emoji_dict = {k: v for k, v in tweets_emojis.groupby('Unicode name')}"
   ]
  },
  {
   "cell_type": "code",
   "execution_count": 18,
   "metadata": {},
   "outputs": [
    {
     "data": {
      "text/plain": [
       "{'BLUE HEART':        Emoji Unicode name                                               text\n",
       " 462064     💙   BLUE HEART                                  OBF Lets go AMVT \n",
       " 462065     💙   BLUE HEART  BEAUTIFUL  ️  ️  ️ RaIna  ️  Unforgettable Mem...\n",
       " 462066     💙   BLUE HEART                        So much love for youman  ️ \n",
       " 462067     💙   BLUE HEART  Idc what my man have or dont have Ima ride w h...\n",
       " 462068     💙   BLUE HEART  This is JUST the beginning Number 9 on iTunes ...\n",
       " ...      ...          ...                                                ...\n",
       " 478000     💙   BLUE HEART  Thanasi with a convincing win over Alexander B...\n",
       " 478001     💙   BLUE HEART                      I love you so much hermanita \n",
       " 478002     💙   BLUE HEART                    Congrats to the whole family  🏼\n",
       " 478003     💙   BLUE HEART                          All My Heart also played \n",
       " 478004     💙   BLUE HEART    ITS OFFICIAL Arnold Hall Room 153 with my girl \n",
       " \n",
       " [15941 rows x 3 columns],\n",
       " 'CRYING FACE':        Emoji Unicode name                                               text\n",
       " 525308     😢  CRYING FACE                        Why you do this to me kuya \n",
       " 525309     😢  CRYING FACE  Please Dont Scroll Past Without  Retweeting My...\n",
       " 525310     😢  CRYING FACE  I miss ㅠㅠㅠ so much Im just semi hiatus and the...\n",
       " 525311     😢  CRYING FACE  Dancing to no limit got me thinking of  miss y...\n",
       " 525312     😢  CRYING FACE   I really thought that last question with Adam...\n",
       " ...      ...          ...                                                ...\n",
       " 536568     😢  CRYING FACE  Awwwh the CEO just gave a whole thank you spee...\n",
       " 536569     😢  CRYING FACE  So wake me up when its all over when Im wiser ...\n",
       " 536570     😢  CRYING FACE            I wish i could read chinese characters \n",
       " 536571     😢  CRYING FACE   Lol eish even on twitter they holding us ransom \n",
       " 536572     😢  CRYING FACE             I freakin love you  ️ you are the best\n",
       " \n",
       " [11265 rows x 3 columns],\n",
       " 'EYES':        Emoji Unicode name                                               text\n",
       " 609679     👀         EYES                             Word  i need me one  🏽\n",
       " 609680     👀         EYES  forever thankful that shared this wonderful vi...\n",
       " 609681     👀         EYES  Feast your eyes on the trailer for Kaleb amp B...\n",
       " 609682     👀         EYES                        baseball boys do it better \n",
       " 609683     👀         EYES                    Still an entire half to go for \n",
       " ...      ...          ...                                                ...\n",
       " 630498     👀         EYES  The second half of that flew by like  What A Race\n",
       " 630499     👀         EYES  Did my  deceive me or did the Ref just not cal...\n",
       " 630500     👀         EYES  TWO  Performance and interview  Or a game I re...\n",
       " 630501     👀         EYES  A night after his first homer Daniel Vogelbach...\n",
       " 630502     👀         EYES           RT IF YOUR GOING ON THE PITCH NEXT WEEK \n",
       " \n",
       " [20824 rows x 3 columns],\n",
       " 'FACE WITH TEARS OF JOY':        Emoji            Unicode name  \\\n",
       " 0          😂  FACE WITH TEARS OF JOY   \n",
       " 1          😂  FACE WITH TEARS OF JOY   \n",
       " 2          😂  FACE WITH TEARS OF JOY   \n",
       " 3          😂  FACE WITH TEARS OF JOY   \n",
       " 4          😂  FACE WITH TEARS OF JOY   \n",
       " ...      ...                     ...   \n",
       " 210304     😂  FACE WITH TEARS OF JOY   \n",
       " 210305     😂  FACE WITH TEARS OF JOY   \n",
       " 210306     😂  FACE WITH TEARS OF JOY   \n",
       " 210307     😂  FACE WITH TEARS OF JOY   \n",
       " 210308     😂  FACE WITH TEARS OF JOY   \n",
       " \n",
       "                                                      text  \n",
       " 0       Idk who taught my baby this BS  ️  IGmeetthesa...  \n",
       " 1                               Thats me in every lesson   \n",
       " 2       Partner strategy LLRC  Urban naxal theories ar...  \n",
       " 3                              Dont play with me  🏾 ‍  ️   \n",
       " 4       To the goofiest boy ever who apparently looks ...  \n",
       " ...                                                   ...  \n",
       " 210304  maybe its one of the tracks but not a single a...  \n",
       " 210305       I honestly cant wait for Big Mouth season 2   \n",
       " 210306  I want 2 bake potatoes nd 2salads with nuggets...  \n",
       " 210307                  true friends wenah wamphe le 50c   \n",
       " 210308     Like a bush of roses take out the fakes Queen   \n",
       " \n",
       " [210309 rows x 3 columns],\n",
       " 'FEMALE SIGN':        Emoji Unicode name                                               text\n",
       " 690836     ♀  FEMALE SIGN  Hows your mom a teacher and you cant even spel...\n",
       " 690837     ♀  FEMALE SIGN  I can really really really hurt feelings if I ...\n",
       " 690838     ♀  FEMALE SIGN   cause hell they only a hand full and them tit...\n",
       " 690839     ♀  FEMALE SIGN             UCFs Wakandan Princess periodt  🏽 ‍  ️\n",
       " 690840     ♀  FEMALE SIGN                    I love my friends 🏻 ‍  ️ 🏻 ‍  ️\n",
       " ...      ...          ...                                                ...\n",
       " 741772     ♀  FEMALE SIGN  yall just wont let my Drake amp Chris Brown be...\n",
       " 741773     ♀  FEMALE SIGN  Dont let them shame you sis because you have a...\n",
       " 741774     ♀  FEMALE SIGN  I only fuck with bitches who got shit to lose ...\n",
       " 741775     ♀  FEMALE SIGN  Ive been ghosting a lot of people lately Im so...\n",
       " 741776     ♀  FEMALE SIGN      Jackson broke my glasses so Im fucked  🏽 ‍  ️\n",
       " \n",
       " [50941 rows x 3 columns],\n",
       " 'FIRE':        Emoji Unicode name                                               text\n",
       " 536573     🔥         FIRE  FIREEE  hugely versatile tracks off YNS Talley...\n",
       " 536574     🔥         FIRE  My girl discovery has LITERALLY changed my lif...\n",
       " 536575     🔥         FIRE  KPOP EXPLOSION Hourly Vote Rate UPDATED STATS ...\n",
       " 536576     🔥         FIRE          VIDEO  performing live on ‘ s 🇿 🇦 X 🇺 🇸 …\n",
       " 536577     🔥         FIRE  REMINDER Episode 1amp2 of BTS  will be release...\n",
       " ...      ...          ...                                                ...\n",
       " 587598     🔥         FIRE   Sixers have won 13 straight for the 1st time ...\n",
       " 587599     🔥         FIRE  Would ask for like 1000 Rts or some but ion ge...\n",
       " 587600     🔥         FIRE  Bring ‘ em out Bring ‘ em out  RT if youre rea...\n",
       " 587601     🔥         FIRE   NOTIFICATIONS ON for FRESH GAINS  1 ⃣ LIKE an...\n",
       " 587602     🔥         FIRE               We back at it in the 7 0 4 For FREE \n",
       " \n",
       " [51030 rows x 3 columns],\n",
       " 'FLEXED BICEPS':        Emoji   Unicode name                                               text\n",
       " 398100     💪  FLEXED BICEPS  my stepbrother wore my other stepbrothers jack...\n",
       " 398101     💪  FLEXED BICEPS   two infected by chicken pox GWS both you my p...\n",
       " 398102     💪  FLEXED BICEPS  I promise your fans that I will get knocked 1 ...\n",
       " 398103     💪  FLEXED BICEPS  Lol twitter is ARMY playground you know  im go...\n",
       " 398104     💪  FLEXED BICEPS  I finally figured it how to work my ninja blen...\n",
       " ...      ...            ...                                                ...\n",
       " 414729     💪  FLEXED BICEPS  2018021 2 BKK ICN Have a good sleep today See ...\n",
       " 414730     💪  FLEXED BICEPS  On to the next round Nice to celebrate another...\n",
       " 414731     💪  FLEXED BICEPS  K9 Nitro is getting ready to chase bad guys wi...\n",
       " 414732     💪  FLEXED BICEPS  oof yea I understand completely punch that anx...\n",
       " 414733     💪  FLEXED BICEPS  This is what we really are  🏻  ‍  ️  🏻 ‍  ️ ‍ ...\n",
       " \n",
       " [16634 rows x 3 columns],\n",
       " 'FLUSHED FACE':        Emoji  Unicode name                                               text\n",
       " 501537     😳  FLUSHED FACE   I love TheChepo Trendy SALE ENTIRE STORE IS 0...\n",
       " 501538     😳  FLUSHED FACE                   shes terrifying omg sign her up \n",
       " 501539     😳  FLUSHED FACE  Sunderland are now up for sale for around a qu...\n",
       " 501540     😳  FLUSHED FACE              Your father keeps sending me nudes  🏽\n",
       " 501541     😳  FLUSHED FACE             No clue how Mac McClung finished that \n",
       " ...      ...           ...                                                ...\n",
       " 509981     😳  FLUSHED FACE   however they have nothing gluten free Its in ...\n",
       " 509982     😳  FLUSHED FACE  God really does show you how ppl are and it ma...\n",
       " 509983     😳  FLUSHED FACE  Are You Kidding Benjamin Sanchis is that spec ...\n",
       " 509984     😳  FLUSHED FACE  ItalyTheyre not sending their best folks  WTF ...\n",
       " 509985     😳  FLUSHED FACE  The track list to Rich The Kids debut album is...\n",
       " \n",
       " [8449 rows x 3 columns],\n",
       " 'GLOWING STAR':        Emoji  Unicode name                                               text\n",
       " 636414     🌟  GLOWING STAR  180408 PUMA HD Take so long time to edit but I...\n",
       " 636415     🌟  GLOWING STAR                     Please RT to vote for our boys\n",
       " 636416     🌟  GLOWING STAR  180128 osaka eclipse concert ㅇㅅㅇ Is there anyo...\n",
       " 636417     🌟  GLOWING STAR   MY FREE XWEPORN  🅲 🅻 🅸 🅲 🅺 🅽 🅻 🅸 🅽 🅺 🆂 ➤ ➤ ➤ ...\n",
       " 636418     🌟  GLOWING STAR         Follow everyone who retweet and like this \n",
       " ...      ...           ...                                                ...\n",
       " 642598     🌟  GLOWING STAR   HANG TIGHT PATRIOTS REMEMBER Theres power in ...\n",
       " 642599     🌟  GLOWING STAR  Pssst ️ ️  Want to find out how much celebriti...\n",
       " 642600     🌟  GLOWING STAR   I AM OFFERING COMMISSIONS DM me for more info...\n",
       " 642601     🌟  GLOWING STAR   VOTE  Another day to Vote Dont waste you chan...\n",
       " 642602     🌟  GLOWING STAR   Its official we did it has not only made it i...\n",
       " \n",
       " [6189 rows x 3 columns],\n",
       " 'HEAVY CHECK MARK':        Emoji      Unicode name  \\\n",
       " 630503     ✔  HEAVY CHECK MARK   \n",
       " 630504     ✔  HEAVY CHECK MARK   \n",
       " 630505     ✔  HEAVY CHECK MARK   \n",
       " 630506     ✔  HEAVY CHECK MARK   \n",
       " 630507     ✔  HEAVY CHECK MARK   \n",
       " ...      ...               ...   \n",
       " 636409     ✔  HEAVY CHECK MARK   \n",
       " 636410     ✔  HEAVY CHECK MARK   \n",
       " 636411     ✔  HEAVY CHECK MARK   \n",
       " 636412     ✔  HEAVY CHECK MARK   \n",
       " 636413     ✔  HEAVY CHECK MARK   \n",
       " \n",
       "                                                      text  \n",
       " 630503   Mini Giveaway  SATU WINNER GET EXO natrep den...  \n",
       " 630504  Q If the items below fall into water which one...  \n",
       " 630505  CALLING ALL CoD WWII PLAYERS  is recruiting fo...  \n",
       " 630506   ️ The Azerbaijans Best Awarding Ceremony On T...  \n",
       " 630507  Interest within reaps in absolute Bliss  ️ Gre...  \n",
       " ...                                                   ...  \n",
       " 636409  I agree As they want 2 disarm us for a reasons...  \n",
       " 636410  Gain 150 followers tonight extra FAST  Retweet...  \n",
       " 636411  iKONICs  ️ Which team are you on ️  ️ Team Mel...  \n",
       " 636412  Fresh squeezed flatforms  ️ Spring forward in the  \n",
       " 636413   Check out ALL my gifs of the stunning Kylie Page  \n",
       " \n",
       " [5911 rows x 3 columns],\n",
       " 'LOUDLY CRYING FACE':        Emoji        Unicode name  \\\n",
       " 210309     😭  LOUDLY CRYING FACE   \n",
       " 210310     😭  LOUDLY CRYING FACE   \n",
       " 210311     😭  LOUDLY CRYING FACE   \n",
       " 210312     😭  LOUDLY CRYING FACE   \n",
       " 210313     😭  LOUDLY CRYING FACE   \n",
       " ...      ...                 ...   \n",
       " 292963     😭  LOUDLY CRYING FACE   \n",
       " 292964     😭  LOUDLY CRYING FACE   \n",
       " 292965     😭  LOUDLY CRYING FACE   \n",
       " 292966     😭  LOUDLY CRYING FACE   \n",
       " 292967     😭  LOUDLY CRYING FACE   \n",
       " \n",
       "                                                      text  \n",
       " 210309            Why did they do Lil Uzi Vert like that   \n",
       " 210310                           I miss my fitbit so bad   \n",
       " 210311                 two of my fav colleges  shit crazy  \n",
       " 210312  whoo Celebrating 5th ArchiMonthsarywhen your m...  \n",
       " 210313           The dogs reaction when the cat jabs him   \n",
       " ...                                                   ...  \n",
       " 292963                           HUM JEET GAYE FINALLYYY   \n",
       " 292964                      “ You have one minute left ”   \n",
       " 292965                               MY HEART IS MELTING   \n",
       " 292966             My cheeks are out and the car is cold   \n",
       " 292967  someone heeelpp idk what to get this kid for h...  \n",
       " \n",
       " [82659 rows x 3 columns],\n",
       " 'MALE SIGN':        Emoji Unicode name                                               text\n",
       " 656687     ♂    MALE SIGN                        Its precisely 2 words  ‍  ️\n",
       " 656688     ♂    MALE SIGN  That mf in my group and we got a presentation ...\n",
       " 656689     ♂    MALE SIGN  the duck walked 🏽 ‍  ️ up ️ to 🏻 the lemonade ...\n",
       " 656690     ♂    MALE SIGN  Vote T amp G for Prez and VP on April 13 th  🏽...\n",
       " 656691     ♂    MALE SIGN  When you just got off work tired af bouta pass...\n",
       " ...      ...          ...                                                ...\n",
       " 690831     ♂    MALE SIGN  If your reading this I hope something good hap...\n",
       " 690832     ♂    MALE SIGN        I just wanna be happy and successful 🏾 ‍  ️\n",
       " 690833     ♂    MALE SIGN  Looking for some HBCU kings and queens to help...\n",
       " 690834     ♂    MALE SIGN  Anyone up to dm me that cool I have nothing el...\n",
       " 690835     ♂    MALE SIGN       Screw me and my overthinking  🏻 ‍  ️  🏻 ‍  ️\n",
       " \n",
       " [34149 rows x 3 columns],\n",
       " 'PARTY POPPER':        Emoji  Unicode name                                               text\n",
       " 429348     🎉  PARTY POPPER  has reached 20M plays on Anghami are the most ...\n",
       " 429349     🎉  PARTY POPPER  My week on Twitter  2 Mentions 2 Replies See y...\n",
       " 429350     🎉  PARTY POPPER                             Happy 25th Birthday  🏽\n",
       " 429351     🎉  PARTY POPPER            Happy Birthday to DO  Catch up with him\n",
       " 429352     🎉  PARTY POPPER  Happy birthday to my buddy during cavraa days ...\n",
       " ...      ...           ...                                                ...\n",
       " 445602     🎉  PARTY POPPER  Congratulations Aeris  We won on GDA thank you...\n",
       " 445603     🎉  PARTY POPPER  CHART 180422 LOCO x HWASA 주지마 12AM KST Ranks M...\n",
       " 445604     🎉  PARTY POPPER  My week on Twitter  10 Mentions 308K Mention R...\n",
       " 445605     🎉  PARTY POPPER  Only move for feb 10th ️ get yall tickets now ...\n",
       " 445606     🎉  PARTY POPPER  Texas State students This Thursday the Student...\n",
       " \n",
       " [16259 rows x 3 columns],\n",
       " 'PURPLE HEART':        Emoji  Unicode name                                               text\n",
       " 445607     💜  PURPLE HEART  Its 1909 ARMY Time Share pics of ARMY  with Be...\n",
       " 445608     💜  PURPLE HEART                    I love you Always do your best \n",
       " 445609     💜  PURPLE HEART  Aww taking it with a ppi could help Or low str...\n",
       " 445610     💜  PURPLE HEART                            Its my mommas birthday \n",
       " 445611     💜  PURPLE HEART  Seven months with my handsome man today  the h...\n",
       " ...      ...           ...                                                ...\n",
       " 462059     💜  PURPLE HEART  Brents timeline is even more super today so ma...\n",
       " 462060     💜  PURPLE HEART  Ah yeah its crazy how missing one day of meds ...\n",
       " 462061     💜  PURPLE HEART       Love you both so much  have a great day Peep\n",
       " 462062     💜  PURPLE HEART                              why are we like this \n",
       " 462063     💜  PURPLE HEART  Just dropped Half Heart  happy vday luv u all ...\n",
       " \n",
       " [16457 rows x 3 columns],\n",
       " 'SKULL':        Emoji Unicode name                                               text\n",
       " 597703     💀        SKULL  its a joke why are you so bothered lmao its no...\n",
       " 597704     💀        SKULL  It done rained snowed and hit 70 ° and we not ...\n",
       " 597705     💀        SKULL                      Lol Rough tweeting  Let me go\n",
       " 597706     💀        SKULL  Hooked my nigga up with some loud amp then he ...\n",
       " 597707     💀        SKULL              didnt blade make yall the chum bucket\n",
       " ...      ...          ...                                                ...\n",
       " 609674     💀        SKULL  These hoes dont even mind being broke as long ...\n",
       " 609675     💀        SKULL                      Freshman year Vs Senior year \n",
       " 609676     💀        SKULL                  Women hate a dude that is honest \n",
       " 609677     💀        SKULL  Day 3 going gluten free did a 5 mile cardio ch...\n",
       " 609678     💀        SKULL                   Lil fucking liar is all you are \n",
       " \n",
       " [11976 rows x 3 columns],\n",
       " 'SMILING FACE WITH SMILING EYES':        Emoji                    Unicode name  \\\n",
       " 292968     😊  SMILING FACE WITH SMILING EYES   \n",
       " 292969     😊  SMILING FACE WITH SMILING EYES   \n",
       " 292970     😊  SMILING FACE WITH SMILING EYES   \n",
       " 292971     😊  SMILING FACE WITH SMILING EYES   \n",
       " 292972     😊  SMILING FACE WITH SMILING EYES   \n",
       " ...      ...                             ...   \n",
       " 321482     😊  SMILING FACE WITH SMILING EYES   \n",
       " 321483     😊  SMILING FACE WITH SMILING EYES   \n",
       " 321484     😊  SMILING FACE WITH SMILING EYES   \n",
       " 321485     😊  SMILING FACE WITH SMILING EYES   \n",
       " 321486     😊  SMILING FACE WITH SMILING EYES   \n",
       " \n",
       "                                                      text  \n",
       " 292968           Can I Just Follow Everyone Who Retweets   \n",
       " 292969     Director says that from is his favourite song   \n",
       " 292970  AWAKE ️ ️ ️ ️  ️ ️ THIS IS OUR WORLDWIDE HANDS...  \n",
       " 292971                   This was the best album he made   \n",
       " 292972               RT if these Two made your childhood   \n",
       " ...                                                   ...  \n",
       " 321482                                    Hi Kris Me too   \n",
       " 321483  One month until the show UK fans please rememb...  \n",
       " 321484                          nun but blessings lately   \n",
       " 321485  The big three releasing songs at the same day ...  \n",
       " 321486   ️  ️ I didnt see this one coming I love you s...  \n",
       " \n",
       " [28519 rows x 3 columns],\n",
       " 'SMILING FACE WITH SUNGLASSES':        Emoji                  Unicode name  \\\n",
       " 509986     😎  SMILING FACE WITH SUNGLASSES   \n",
       " 509987     😎  SMILING FACE WITH SUNGLASSES   \n",
       " 509988     😎  SMILING FACE WITH SUNGLASSES   \n",
       " 509989     😎  SMILING FACE WITH SUNGLASSES   \n",
       " 509990     😎  SMILING FACE WITH SUNGLASSES   \n",
       " ...      ...                           ...   \n",
       " 525303     😎  SMILING FACE WITH SUNGLASSES   \n",
       " 525304     😎  SMILING FACE WITH SUNGLASSES   \n",
       " 525305     😎  SMILING FACE WITH SUNGLASSES   \n",
       " 525306     😎  SMILING FACE WITH SUNGLASSES   \n",
       " 525307     😎  SMILING FACE WITH SUNGLASSES   \n",
       " \n",
       "                                                      text  \n",
       " 509986  Adrian Kempe welcomes the Golden Knights to ST...  \n",
       " 509987           What I say every morning when I wake up   \n",
       " 509988                 One of the Cleanest Rigs Ive seen   \n",
       " 509989                 Now thiz iz call CLASS  Maal look   \n",
       " 509990                      Aye watch these moves though   \n",
       " ...                                                   ...  \n",
       " 525303  158M  keep up the work guys Shilpa Shinde For ...  \n",
       " 525304                      Throwin shade like its sunny   \n",
       " 525305  If yo boyfriend cheats on you dump his ass dat...  \n",
       " 525306                       DAAAZZZ RIIIGHT  ️ baaabyyy   \n",
       " 525307                           You can read in my mind   \n",
       " \n",
       " [15322 rows x 3 columns],\n",
       " 'SPARKLES':        Emoji Unicode name                                               text\n",
       " 478005     ✨     SPARKLES  share your latest picgif of Jungkook on your p...\n",
       " 478006     ✨     SPARKLES  Whats first impression of each other What are ...\n",
       " 478007     ✨     SPARKLES   Folllow Everyone Who ● ▬ ๑ ⇓ ๑ ▬ ▬ ▬ ๑ ⇓ ๑ ▬ ...\n",
       " 478008     ✨     SPARKLES  They just glow together  ️ Our is officially h...\n",
       " 478009     ✨     SPARKLES  The nominees for 2018 British Video are  Sign ...\n",
       " ...      ...          ...                                                ...\n",
       " 501532     ✨     SPARKLES                             I hope has a good day \n",
       " 501533     ✨     SPARKLES  Can your Mom teach my mother and thing or two ...\n",
       " 501534     ✨     SPARKLES   PREMADE COVERS  This one makes me wish I wrot...\n",
       " 501535     ✨     SPARKLES  You are perfect and beautiful armies keep shin...\n",
       " 501536     ✨     SPARKLES  I just notice this uwu egirlss reina and yg ja...\n",
       " \n",
       " [23532 rows x 3 columns],\n",
       " 'SPARKLING HEART':        Emoji     Unicode name  \\\n",
       " 414734     💖  SPARKLING HEART   \n",
       " 414735     💖  SPARKLING HEART   \n",
       " 414736     💖  SPARKLING HEART   \n",
       " 414737     💖  SPARKLING HEART   \n",
       " 414738     💖  SPARKLING HEART   \n",
       " ...      ...              ...   \n",
       " 429343     💖  SPARKLING HEART   \n",
       " 429344     💖  SPARKLING HEART   \n",
       " 429345     💖  SPARKLING HEART   \n",
       " 429346     💖  SPARKLING HEART   \n",
       " 429347     💖  SPARKLING HEART   \n",
       " \n",
       "                                                      text  \n",
       " 414734  Witnessing how you keep evolving as an artist ...  \n",
       " 414735             Happy birthday I love you  Be safe Lol  \n",
       " 414736        They have no choice when you are my choice   \n",
       " 414737                               Respect and love on   \n",
       " 414738  Enjoy Our Sale Today Will expire in 24 Hours D...  \n",
       " ...                                                   ...  \n",
       " 429343                           meet the parents  ft amp  \n",
       " 429344                         ICON Happy valentines day   \n",
       " 429345                           No boyfriend No problem   \n",
       " 429346                                  king we love you   \n",
       " 429347                Be my parekoy in a full of bebe ko   \n",
       " \n",
       " [14614 rows x 3 columns],\n",
       " 'TROPHY':        Emoji Unicode name                                               text\n",
       " 642603     🏆       TROPHY          MUSIC by yours truly  RT TO THE RAP W RLD\n",
       " 642604     🏆       TROPHY  Congratulations to  for winning → Best Collabo...\n",
       " 642605     🏆       TROPHY   MTV Miaw KPOP EXPLOSION  Estimated Total Twee...\n",
       " 642606     🏆       TROPHY  1 Retweet this  2 Follow all that Like amp Ret...\n",
       " 642607     🏆       TROPHY  Premier League Champions  So happy where this ...\n",
       " ...      ...          ...                                                ...\n",
       " 649490     🏆       TROPHY                A match made in footballing heaven \n",
       " 649491     🏆       TROPHY           Who deserves to win a blimp KEEP VOTING \n",
       " 649492     🏆       TROPHY  Bob Bryan and Mike Bryan clinch their 116th te...\n",
       " 649493     🏆       TROPHY   1 ⃣ LIKE it ️ 2 ⃣ FOLLOW all that LIKE amp RE...\n",
       " 649494     🏆       TROPHY       BTS Golden Disk Awards Revolution 2014201 6 \n",
       " \n",
       " [6892 rows x 3 columns],\n",
       " 'TWO HEARTS':        Emoji Unicode name                                               text\n",
       " 321487     💕   TWO HEARTS  hi lovely can you pretty please checkout my Sh...\n",
       " 321488     💕   TWO HEARTS  Ill post my full sex tape at 500 retweets co o...\n",
       " 321489     💕   TWO HEARTS           Happy 31st Birthday to Jazmine Sullivan \n",
       " 321490     💕   TWO HEARTS                                    I love you too \n",
       " 321491     💕   TWO HEARTS                        You love me and I love you \n",
       " ...      ...          ...                                                ...\n",
       " 351531     💕   TWO HEARTS                  Happy birthday my boo I love you \n",
       " 351532     💕   TWO HEARTS     Omg babe you just made my day  I love you too \n",
       " 351533     💕   TWO HEARTS  Id love to be there I know it will be an aweso...\n",
       " 351534     💕   TWO HEARTS  Im at a point in my life where cant shit fuck ...\n",
       " 351535     💕   TWO HEARTS                              They cute or whateva \n",
       " \n",
       " [30049 rows x 3 columns],\n",
       " 'WEARY FACE':        Emoji Unicode name                                               text\n",
       " 351536     😩   WEARY FACE               Bangers for daysss that turn though \n",
       " 351537     😩   WEARY FACE  somebody said this the video that caught Lucci...\n",
       " 351538     😩   WEARY FACE  opens yumecast just to play persona mystery th...\n",
       " 351539     😩   WEARY FACE  may honors na may high honors pa what an overa...\n",
       " 351540     😩   WEARY FACE                   And the baby fever has returned \n",
       " ...      ...          ...                                                ...\n",
       " 382020     😩   WEARY FACE  My mind is always racing with new ideas Its ha...\n",
       " 382021     😩   WEARY FACE  The games have starved me of some strong Sonic...\n",
       " 382022     😩   WEARY FACE  Im not from Puerto Rico but BTS IN PUERTO RICO...\n",
       " 382023     😩   WEARY FACE                 the fact I fw this thread so much \n",
       " 382024     😩   WEARY FACE  My family stay talking about It but i can neve...\n",
       " \n",
       " [30489 rows x 3 columns],\n",
       " 'WHITE HEAVY CHECK MARK':        Emoji            Unicode name  \\\n",
       " 649495     ✅  WHITE HEAVY CHECK MARK   \n",
       " 649496     ✅  WHITE HEAVY CHECK MARK   \n",
       " 649497     ✅  WHITE HEAVY CHECK MARK   \n",
       " 649498     ✅  WHITE HEAVY CHECK MARK   \n",
       " 649499     ✅  WHITE HEAVY CHECK MARK   \n",
       " ...      ...                     ...   \n",
       " 656682     ✅  WHITE HEAVY CHECK MARK   \n",
       " 656683     ✅  WHITE HEAVY CHECK MARK   \n",
       " 656684     ✅  WHITE HEAVY CHECK MARK   \n",
       " 656685     ✅  WHITE HEAVY CHECK MARK   \n",
       " 656686     ✅  WHITE HEAVY CHECK MARK   \n",
       " \n",
       "                                                      text  \n",
       " 649495  1 Retweet this  2 Follow all that Like amp Ret...  \n",
       " 649496  ★ STREAM GIVEAWAY ★ TO WIN  Follow  Retweet Li...  \n",
       " 649497  Twitter Poll 50 Online poll 50  Voting closes ...  \n",
       " 649498  The party continues today  LIKE  COMMENT  RETW...  \n",
       " 649499   The Best list of webcam Sex Cam Sites  100 FR...  \n",
       " ...                                                   ...  \n",
       " 656682   M4A1S I Decimator GIVEAWAY  Follow me and  Ta...  \n",
       " 656683   Three year letterman  68 singles wins 60 doub...  \n",
       " 656684                            Live fast or die young   \n",
       " 656685   Jobs  Increased local expenditure  Tourism Th...  \n",
       " 656686                             “ WAKANDA Forever 🏾  ️  \n",
       " \n",
       " [7192 rows x 3 columns],\n",
       " 'WINKING FACE':        Emoji  Unicode name                                               text\n",
       " 382025     😉  WINKING FACE  Id definitely pay you a visit whenever I decid...\n",
       " 382026     😉  WINKING FACE                    ITS YO BIRTHDAYYY BIIITTCCCHHH \n",
       " 382027     😉  WINKING FACE          Nice one Jarred well done ya Commie Cunt \n",
       " 382028     😉  WINKING FACE     BANGLADESH ARMYs still there Keep on tweeting \n",
       " 382029     😉  WINKING FACE                     Had a busy day signing things \n",
       " ...      ...           ...                                                ...\n",
       " 398095     😉  WINKING FACE  If your dream seems unreachable dont lower you...\n",
       " 398096     😉  WINKING FACE  big blue finally doing something good with the...\n",
       " 398097     😉  WINKING FACE  Hey dont be a dick and use my code on Uber  st...\n",
       " 398098     😉  WINKING FACE                        Sounds like a beauty award \n",
       " 398099     😉  WINKING FACE  I wonder if any Spurs fans are singing 20 and ...\n",
       " \n",
       " [16075 rows x 3 columns],\n",
       " 'YELLOW HEART':        Emoji  Unicode name                                               text\n",
       " 587603     💛  YELLOW HEART  sehuns bday ad at times square in nyc thank yo...\n",
       " 587604     💛  YELLOW HEART                     I hope your smile never fades \n",
       " 587605     💛  YELLOW HEART     His Majesty always live in our mind eternally \n",
       " 587606     💛  YELLOW HEART   ️  Road to 1B  ️ Lets make 1B hearts on 2018 ...\n",
       " 587607     💛  YELLOW HEART  Basically dont listen to your brain if its not...\n",
       " ...      ...           ...                                                ...\n",
       " 597698     💛  YELLOW HEART                                Had a great Easter \n",
       " 597699     💛  YELLOW HEART       Im such a sweetheart I have a heart of gold \n",
       " 597700     💛  YELLOW HEART  Baking homemade granola snack bars and singing...\n",
       " 597701     💛  YELLOW HEART  Basta ALL may ALLam ALL na yan  ALLive ALLert ...\n",
       " 597702     💛  YELLOW HEART  IF U LIVE IN EUROPEAUSTRALIASIA FINDING ME IS ...\n",
       " \n",
       " [10100 rows x 3 columns]}"
      ]
     },
     "execution_count": 18,
     "metadata": {},
     "output_type": "execute_result"
    }
   ],
   "source": [
    "# a dictionary made up of dataframes\n",
    "emoji_dict"
   ]
  },
  {
   "cell_type": "code",
   "execution_count": 19,
   "metadata": {},
   "outputs": [
    {
     "data": {
      "text/plain": [
       "630503     Mini Giveaway  SATU WINNER GET EXO natrep den...\n",
       "630504    Q If the items below fall into water which one...\n",
       "630505    CALLING ALL CoD WWII PLAYERS  is recruiting fo...\n",
       "630506     ️ The Azerbaijans Best Awarding Ceremony On T...\n",
       "630507    Interest within reaps in absolute Bliss  ️ Gre...\n",
       "                                ...                        \n",
       "636409    I agree As they want 2 disarm us for a reasons...\n",
       "636410    Gain 150 followers tonight extra FAST  Retweet...\n",
       "636411    iKONICs  ️ Which team are you on ️  ️ Team Mel...\n",
       "636412    Fresh squeezed flatforms  ️ Spring forward in the\n",
       "636413     Check out ALL my gifs of the stunning Kylie Page\n",
       "Name: text, Length: 5911, dtype: object"
      ]
     },
     "execution_count": 19,
     "metadata": {},
     "output_type": "execute_result"
    }
   ],
   "source": [
    "# querying\n",
    "emoji_dict['HEAVY CHECK MARK']['text']"
   ]
  },
  {
   "attachments": {},
   "cell_type": "markdown",
   "metadata": {},
   "source": [
    "## 2.3 Send tweets as input to the pre-trained model\n"
   ]
  },
  {
   "cell_type": "code",
   "execution_count": null,
   "metadata": {},
   "outputs": [],
   "source": [
    "# classify emoji emotions and save in new emotions column\n",
    "for key in emoji_dict:\n",
    "    emoji_dict[key]['Emotions'] = emoji_dict[key]['text'].apply(lambda tweet: get_emotion(tweet.lower()))\n",
    "    emoji_dict[key].drop(['text', 'Unicode name'], axis=1, inplace=True)\n",
    "\n",
    "# This takes a while, so instead of having my machine occupied for the number of hours this needs to finish, i broke it down into smaller pieces"
   ]
  },
  {
   "cell_type": "code",
   "execution_count": 20,
   "metadata": {},
   "outputs": [],
   "source": [
    "# classify emoji emotions and save in new emotions column\n",
    "emoji_dict['HEAVY CHECK MARK']['Emotions'] = emoji_dict['HEAVY CHECK MARK']['text'].apply(lambda tweet: get_emotion(tweet.lower()))\n",
    "# drop tweet column\n",
    "emoji_dict['HEAVY CHECK MARK'].drop(['text', 'Unicode name'], axis=1, inplace=True)"
   ]
  },
  {
   "cell_type": "code",
   "execution_count": 22,
   "metadata": {},
   "outputs": [],
   "source": [
    "# GLOWING STAR \n",
    "emoji_dict['GLOWING STAR']['Emotions'] = emoji_dict['GLOWING STAR']['text'].apply(lambda tweet: get_emotion(tweet.lower()))\n",
    "emoji_dict['GLOWING STAR'].drop(['text', 'Unicode name'], axis=1, inplace=True)"
   ]
  },
  {
   "cell_type": "code",
   "execution_count": 23,
   "metadata": {},
   "outputs": [],
   "source": [
    "# TROPHY\n",
    "emoji_dict['TROPHY']['Emotions'] = emoji_dict['TROPHY']['text'].apply(lambda tweet: get_emotion(tweet.lower()))\n",
    "emoji_dict['TROPHY'].drop(['text', 'Unicode name'], axis=1, inplace=True)"
   ]
  },
  {
   "cell_type": "code",
   "execution_count": 24,
   "metadata": {},
   "outputs": [],
   "source": [
    "# WHITE HEAVY CHECK MARK\n",
    "emoji_dict['WHITE HEAVY CHECK MARK']['Emotions'] = emoji_dict['WHITE HEAVY CHECK MARK']['text'].apply(lambda tweet: get_emotion(tweet.lower()))\n",
    "emoji_dict['WHITE HEAVY CHECK MARK'].drop(['text', 'Unicode name'], axis=1, inplace=True)"
   ]
  },
  {
   "cell_type": "code",
   "execution_count": 25,
   "metadata": {},
   "outputs": [],
   "source": [
    "# FLUSHED FACE\n",
    "emoji_dict['FLUSHED FACE']['Emotions'] = emoji_dict['FLUSHED FACE']['text'].apply(lambda tweet: get_emotion(tweet.lower()))\n",
    "emoji_dict['FLUSHED FACE'].drop(['text', 'Unicode name'], axis=1, inplace=True)"
   ]
  },
  {
   "cell_type": "code",
   "execution_count": 26,
   "metadata": {},
   "outputs": [],
   "source": [
    "# YELLOW HEART\n",
    "emoji_dict['YELLOW HEART']['Emotions'] = emoji_dict['YELLOW HEART']['text'].apply(lambda tweet: get_emotion(tweet.lower()))\n",
    "emoji_dict['YELLOW HEART'].drop(['text', 'Unicode name'], axis=1, inplace=True)"
   ]
  },
  {
   "cell_type": "code",
   "execution_count": 29,
   "metadata": {},
   "outputs": [],
   "source": [
    "# CRYING FACE\n",
    "emoji_dict['CRYING FACE']['Emotions'] = emoji_dict['CRYING FACE']['text'].apply(lambda tweet: get_emotion(tweet.lower()))\n",
    "emoji_dict['CRYING FACE'].drop(['text', 'Unicode name'], axis=1, inplace=True)"
   ]
  },
  {
   "cell_type": "code",
   "execution_count": 30,
   "metadata": {},
   "outputs": [],
   "source": [
    "# SKULL\n",
    "emoji_dict['SKULL']['Emotions'] = emoji_dict['SKULL']['text'].apply(lambda tweet: get_emotion(tweet.lower()))\n",
    "emoji_dict['SKULL'].drop(['text', 'Unicode name'], axis=1, inplace=True)"
   ]
  },
  {
   "cell_type": "code",
   "execution_count": 31,
   "metadata": {},
   "outputs": [],
   "source": [
    "# SPARKLING HEART\n",
    "emoji_dict['SPARKLING HEART']['Emotions'] = emoji_dict['SPARKLING HEART']['text'].apply(lambda tweet: get_emotion(tweet.lower()))\n",
    "emoji_dict['SPARKLING HEART'].drop(['text', 'Unicode name'], axis=1, inplace=True)"
   ]
  },
  {
   "cell_type": "code",
   "execution_count": 32,
   "metadata": {},
   "outputs": [],
   "source": [
    "# SMILING FACE WITH SUNGLASSES\n",
    "emoji_dict['SMILING FACE WITH SUNGLASSES']['Emotions'] = emoji_dict['SMILING FACE WITH SUNGLASSES']['text'].apply(lambda tweet: get_emotion(tweet.lower()))\n",
    "emoji_dict['SMILING FACE WITH SUNGLASSES'].drop(['text', 'Unicode name'], axis=1, inplace=True)"
   ]
  },
  {
   "cell_type": "code",
   "execution_count": 33,
   "metadata": {},
   "outputs": [],
   "source": [
    "# BLUE HEART\n",
    "emoji_dict['BLUE HEART']['Emotions'] = emoji_dict['BLUE HEART']['text'].apply(lambda tweet: get_emotion(tweet.lower()))\n",
    "emoji_dict['BLUE HEART'].drop(['text', 'Unicode name'], axis=1, inplace=True)"
   ]
  },
  {
   "cell_type": "code",
   "execution_count": 34,
   "metadata": {},
   "outputs": [],
   "source": [
    "# WINKING FACE\n",
    "emoji_dict['WINKING FACE']['Emotions'] = emoji_dict['WINKING FACE']['text'].apply(lambda tweet: get_emotion(tweet.lower()))\n",
    "emoji_dict['WINKING FACE'].drop(['text', 'Unicode name'], axis=1, inplace=True)"
   ]
  },
  {
   "cell_type": "code",
   "execution_count": 35,
   "metadata": {},
   "outputs": [],
   "source": [
    "# PARTY POPPER\n",
    "emoji_dict['PARTY POPPER']['Emotions'] = emoji_dict['PARTY POPPER']['text'].apply(lambda tweet: get_emotion(tweet.lower()))\n",
    "emoji_dict['PARTY POPPER'].drop(['text', 'Unicode name'], axis=1, inplace=True)"
   ]
  },
  {
   "cell_type": "code",
   "execution_count": 36,
   "metadata": {},
   "outputs": [],
   "source": [
    "# PURPLE HEART\n",
    "emoji_dict['PURPLE HEART']['Emotions'] = emoji_dict['PURPLE HEART']['text'].apply(lambda tweet: get_emotion(tweet.lower()))\n",
    "emoji_dict['PURPLE HEART'].drop(['text', 'Unicode name'], axis=1, inplace=True)"
   ]
  },
  {
   "cell_type": "code",
   "execution_count": 37,
   "metadata": {},
   "outputs": [],
   "source": [
    "# FLEXED BICEPS\n",
    "emoji_dict['FLEXED BICEPS']['Emotions'] = emoji_dict['FLEXED BICEPS']['text'].apply(lambda tweet: get_emotion(tweet.lower()))\n",
    "emoji_dict['FLEXED BICEPS'].drop(['text', 'Unicode name'], axis=1, inplace=True)"
   ]
  },
  {
   "cell_type": "code",
   "execution_count": 38,
   "metadata": {},
   "outputs": [],
   "source": [
    "# EYES\n",
    "emoji_dict['EYES']['Emotions'] = emoji_dict['EYES']['text'].apply(lambda tweet: get_emotion(tweet.lower()))\n",
    "emoji_dict['EYES'].drop(['text', 'Unicode name'], axis=1, inplace=True)"
   ]
  },
  {
   "cell_type": "code",
   "execution_count": 44,
   "metadata": {},
   "outputs": [],
   "source": [
    "# SPARKLES\n",
    "emoji_dict['SPARKLES']['Emotions'] = emoji_dict['SPARKLES']['text'].apply(lambda tweet: get_emotion(tweet.lower()))\n",
    "emoji_dict['SPARKLES'].drop(['text', 'Unicode name'], axis=1, inplace=True)"
   ]
  },
  {
   "cell_type": "code",
   "execution_count": 45,
   "metadata": {},
   "outputs": [],
   "source": [
    "# SMILING FACE WITH SMILING EYES\n",
    "emoji_dict['SMILING FACE WITH SMILING EYES']['Emotions'] = emoji_dict['SMILING FACE WITH SMILING EYES']['text'].apply(lambda tweet: get_emotion(tweet.lower()))\n",
    "emoji_dict['SMILING FACE WITH SMILING EYES'].drop(['text', 'Unicode name'], axis=1, inplace=True)"
   ]
  },
  {
   "cell_type": "code",
   "execution_count": 46,
   "metadata": {},
   "outputs": [],
   "source": [
    "# TWO HEARTS\n",
    "emoji_dict['TWO HEARTS']['Emotions'] = emoji_dict['TWO HEARTS']['text'].apply(lambda tweet: get_emotion(tweet.lower()))\n",
    "emoji_dict['TWO HEARTS'].drop(['text', 'Unicode name'], axis=1, inplace=True)"
   ]
  },
  {
   "cell_type": "code",
   "execution_count": 47,
   "metadata": {},
   "outputs": [],
   "source": [
    "# WEARY FACE\n",
    "emoji_dict['WEARY FACE']['Emotions'] = emoji_dict['WEARY FACE']['text'].apply(lambda tweet: get_emotion(tweet.lower()))\n",
    "emoji_dict['WEARY FACE'].drop(['text', 'Unicode name'], axis=1, inplace=True)"
   ]
  },
  {
   "cell_type": "code",
   "execution_count": 48,
   "metadata": {},
   "outputs": [],
   "source": [
    "# MALE SIGN\n",
    "emoji_dict['MALE SIGN']['Emotions'] = emoji_dict['MALE SIGN']['text'].apply(lambda tweet: get_emotion(tweet.lower()))\n",
    "emoji_dict['MALE SIGN'].drop(['text', 'Unicode name'], axis=1, inplace=True)"
   ]
  },
  {
   "cell_type": "code",
   "execution_count": 87,
   "metadata": {},
   "outputs": [],
   "source": [
    "# FEMALE SIGN \n",
    "emoji_dict['FEMALE SIGN']['Emotions'] = emoji_dict['FEMALE SIGN']['text'].apply(lambda tweet: get_emotion(tweet.lower()))\n",
    "emoji_dict['FEMALE SIGN'].drop(['text', 'Unicode name'], axis=1, inplace=True)"
   ]
  },
  {
   "cell_type": "code",
   "execution_count": 88,
   "metadata": {},
   "outputs": [],
   "source": [
    "# FIRE\n",
    "emoji_dict['FIRE']['Emotions'] = emoji_dict['FIRE']['text'].apply(lambda tweet: get_emotion(tweet.lower()))\n",
    "emoji_dict['FIRE'].drop(['text', 'Unicode name'], axis=1, inplace=True)"
   ]
  },
  {
   "cell_type": "code",
   "execution_count": 89,
   "metadata": {},
   "outputs": [],
   "source": [
    "# LOUDLY CRYING FACE\n",
    "emoji_dict['LOUDLY CRYING FACE']['Emotions'] = emoji_dict['LOUDLY CRYING FACE']['text'].apply(lambda tweet: get_emotion(tweet.lower()))\n",
    "emoji_dict['LOUDLY CRYING FACE'].drop(['text', 'Unicode name'], axis=1, inplace=True)"
   ]
  },
  {
   "cell_type": "code",
   "execution_count": 140,
   "metadata": {},
   "outputs": [],
   "source": [
    "# FACE WITH TEARS OF JOY\n",
    "emoji_dict['FACE WITH TEARS OF JOY']['Emotions'] = emoji_dict['FACE WITH TEARS OF JOY']['text'].apply(lambda tweet: get_emotion(tweet.lower()))\n",
    "emoji_dict['FACE WITH TEARS OF JOY'].drop(['text', 'Unicode name'], axis=1, inplace=True)"
   ]
  },
  {
   "attachments": {},
   "cell_type": "markdown",
   "metadata": {},
   "source": [
    "----"
   ]
  },
  {
   "cell_type": "code",
   "execution_count": null,
   "metadata": {},
   "outputs": [],
   "source": [
    "# delete extra word present at the start of the string\n",
    "for key in emoji_dict:    \n",
    "    emoji_dict[key]['Emotions'] = emoji_dict[key]['Emotions'].apply(lambda tweet: tweet.split(' ', 1)[1])"
   ]
  },
  {
   "cell_type": "code",
   "execution_count": 142,
   "metadata": {},
   "outputs": [],
   "source": [
    "# save the new dictionary\n",
    "import csv\n",
    "with open('../../../Desktop/capstone-data/emoji_emotion_dict.csv', 'w', newline='', encoding=\"utf-8\") as f:\n",
    "    writer = csv.writer(f)\n",
    "    for row in emoji_dict.items():\n",
    "        writer.writerow(row)"
   ]
  },
  {
   "attachments": {},
   "cell_type": "markdown",
   "metadata": {},
   "source": [
    "------"
   ]
  },
  {
   "cell_type": "code",
   "execution_count": 143,
   "metadata": {},
   "outputs": [],
   "source": [
    "# merge dictionary dfs into one df\n",
    "df_list = []\n",
    "for key in emoji_dict:\n",
    "    df_list.append(emoji_dict[key])\n",
    "\n",
    "df_emoji_emotion = pd.concat(df_list)"
   ]
  },
  {
   "cell_type": "code",
   "execution_count": 146,
   "metadata": {},
   "outputs": [
    {
     "data": {
      "text/plain": [
       "joy         387824\n",
       "anger       192890\n",
       "fear         70514\n",
       "sadness      57986\n",
       "love         24011\n",
       "surprise      8531\n",
       "gay             10\n",
       "patience         3\n",
       "hunger           3\n",
       "silence          2\n",
       "divorce          1\n",
       "wild             1\n",
       "focus            1\n",
       "Name: Emotions, dtype: int64"
      ]
     },
     "execution_count": 146,
     "metadata": {},
     "output_type": "execute_result"
    }
   ],
   "source": [
    "df_emoji_emotion.Emotions.value_counts() # extra emotions come from transformer model"
   ]
  },
  {
   "cell_type": "code",
   "execution_count": 145,
   "metadata": {},
   "outputs": [
    {
     "data": {
      "text/html": [
       "<div>\n",
       "<style scoped>\n",
       "    .dataframe tbody tr th:only-of-type {\n",
       "        vertical-align: middle;\n",
       "    }\n",
       "\n",
       "    .dataframe tbody tr th {\n",
       "        vertical-align: top;\n",
       "    }\n",
       "\n",
       "    .dataframe thead th {\n",
       "        text-align: right;\n",
       "    }\n",
       "</style>\n",
       "<table border=\"1\" class=\"dataframe\">\n",
       "  <thead>\n",
       "    <tr style=\"text-align: right;\">\n",
       "      <th></th>\n",
       "      <th>Emoji</th>\n",
       "      <th>Emotions</th>\n",
       "    </tr>\n",
       "  </thead>\n",
       "  <tbody>\n",
       "    <tr>\n",
       "      <th>462310</th>\n",
       "      <td>💙</td>\n",
       "      <td>surprise</td>\n",
       "    </tr>\n",
       "    <tr>\n",
       "      <th>462587</th>\n",
       "      <td>💙</td>\n",
       "      <td>surprise</td>\n",
       "    </tr>\n",
       "    <tr>\n",
       "      <th>462590</th>\n",
       "      <td>💙</td>\n",
       "      <td>surprise</td>\n",
       "    </tr>\n",
       "    <tr>\n",
       "      <th>462809</th>\n",
       "      <td>💙</td>\n",
       "      <td>surprise</td>\n",
       "    </tr>\n",
       "    <tr>\n",
       "      <th>463147</th>\n",
       "      <td>💙</td>\n",
       "      <td>surprise</td>\n",
       "    </tr>\n",
       "    <tr>\n",
       "      <th>...</th>\n",
       "      <td>...</td>\n",
       "      <td>...</td>\n",
       "    </tr>\n",
       "    <tr>\n",
       "      <th>597441</th>\n",
       "      <td>💛</td>\n",
       "      <td>surprise</td>\n",
       "    </tr>\n",
       "    <tr>\n",
       "      <th>597458</th>\n",
       "      <td>💛</td>\n",
       "      <td>surprise</td>\n",
       "    </tr>\n",
       "    <tr>\n",
       "      <th>597461</th>\n",
       "      <td>💛</td>\n",
       "      <td>surprise</td>\n",
       "    </tr>\n",
       "    <tr>\n",
       "      <th>597559</th>\n",
       "      <td>💛</td>\n",
       "      <td>surprise</td>\n",
       "    </tr>\n",
       "    <tr>\n",
       "      <th>597587</th>\n",
       "      <td>💛</td>\n",
       "      <td>surprise</td>\n",
       "    </tr>\n",
       "  </tbody>\n",
       "</table>\n",
       "<p>8531 rows × 2 columns</p>\n",
       "</div>"
      ],
      "text/plain": [
       "       Emoji  Emotions\n",
       "462310     💙  surprise\n",
       "462587     💙  surprise\n",
       "462590     💙  surprise\n",
       "462809     💙  surprise\n",
       "463147     💙  surprise\n",
       "...      ...       ...\n",
       "597441     💛  surprise\n",
       "597458     💛  surprise\n",
       "597461     💛  surprise\n",
       "597559     💛  surprise\n",
       "597587     💛  surprise\n",
       "\n",
       "[8531 rows x 2 columns]"
      ]
     },
     "execution_count": 145,
     "metadata": {},
     "output_type": "execute_result"
    }
   ],
   "source": [
    "df_emoji_emotion[df_emoji_emotion['Emotions']== 'surprise'] # lots of dups"
   ]
  },
  {
   "cell_type": "code",
   "execution_count": 144,
   "metadata": {},
   "outputs": [
    {
     "data": {
      "text/html": [
       "<div>\n",
       "<style scoped>\n",
       "    .dataframe tbody tr th:only-of-type {\n",
       "        vertical-align: middle;\n",
       "    }\n",
       "\n",
       "    .dataframe tbody tr th {\n",
       "        vertical-align: top;\n",
       "    }\n",
       "\n",
       "    .dataframe thead th {\n",
       "        text-align: right;\n",
       "    }\n",
       "</style>\n",
       "<table border=\"1\" class=\"dataframe\">\n",
       "  <thead>\n",
       "    <tr style=\"text-align: right;\">\n",
       "      <th></th>\n",
       "      <th>Emotions</th>\n",
       "      <th>Emoji</th>\n",
       "    </tr>\n",
       "  </thead>\n",
       "  <tbody>\n",
       "    <tr>\n",
       "      <th>543276</th>\n",
       "      <td>joy</td>\n",
       "      <td>🔥</td>\n",
       "    </tr>\n",
       "    <tr>\n",
       "      <th>701572</th>\n",
       "      <td>sadness</td>\n",
       "      <td>♀</td>\n",
       "    </tr>\n",
       "    <tr>\n",
       "      <th>621975</th>\n",
       "      <td>joy</td>\n",
       "      <td>👀</td>\n",
       "    </tr>\n",
       "    <tr>\n",
       "      <th>379657</th>\n",
       "      <td>sadness</td>\n",
       "      <td>😩</td>\n",
       "    </tr>\n",
       "    <tr>\n",
       "      <th>4125</th>\n",
       "      <td>joy</td>\n",
       "      <td>😂</td>\n",
       "    </tr>\n",
       "    <tr>\n",
       "      <th>363158</th>\n",
       "      <td>sadness</td>\n",
       "      <td>😩</td>\n",
       "    </tr>\n",
       "    <tr>\n",
       "      <th>439602</th>\n",
       "      <td>joy</td>\n",
       "      <td>🎉</td>\n",
       "    </tr>\n",
       "    <tr>\n",
       "      <th>240510</th>\n",
       "      <td>sadness</td>\n",
       "      <td>😭</td>\n",
       "    </tr>\n",
       "    <tr>\n",
       "      <th>311156</th>\n",
       "      <td>anger</td>\n",
       "      <td>😊</td>\n",
       "    </tr>\n",
       "    <tr>\n",
       "      <th>664257</th>\n",
       "      <td>joy</td>\n",
       "      <td>♂</td>\n",
       "    </tr>\n",
       "    <tr>\n",
       "      <th>333273</th>\n",
       "      <td>joy</td>\n",
       "      <td>💕</td>\n",
       "    </tr>\n",
       "    <tr>\n",
       "      <th>198535</th>\n",
       "      <td>joy</td>\n",
       "      <td>😂</td>\n",
       "    </tr>\n",
       "    <tr>\n",
       "      <th>658495</th>\n",
       "      <td>anger</td>\n",
       "      <td>♂</td>\n",
       "    </tr>\n",
       "    <tr>\n",
       "      <th>369327</th>\n",
       "      <td>joy</td>\n",
       "      <td>😩</td>\n",
       "    </tr>\n",
       "    <tr>\n",
       "      <th>394094</th>\n",
       "      <td>fear</td>\n",
       "      <td>😉</td>\n",
       "    </tr>\n",
       "    <tr>\n",
       "      <th>62429</th>\n",
       "      <td>sadness</td>\n",
       "      <td>😂</td>\n",
       "    </tr>\n",
       "    <tr>\n",
       "      <th>135638</th>\n",
       "      <td>joy</td>\n",
       "      <td>😂</td>\n",
       "    </tr>\n",
       "    <tr>\n",
       "      <th>675831</th>\n",
       "      <td>joy</td>\n",
       "      <td>♂</td>\n",
       "    </tr>\n",
       "    <tr>\n",
       "      <th>686621</th>\n",
       "      <td>anger</td>\n",
       "      <td>♂</td>\n",
       "    </tr>\n",
       "    <tr>\n",
       "      <th>294913</th>\n",
       "      <td>joy</td>\n",
       "      <td>😊</td>\n",
       "    </tr>\n",
       "    <tr>\n",
       "      <th>653054</th>\n",
       "      <td>joy</td>\n",
       "      <td>✅</td>\n",
       "    </tr>\n",
       "    <tr>\n",
       "      <th>155875</th>\n",
       "      <td>joy</td>\n",
       "      <td>😂</td>\n",
       "    </tr>\n",
       "    <tr>\n",
       "      <th>106559</th>\n",
       "      <td>anger</td>\n",
       "      <td>😂</td>\n",
       "    </tr>\n",
       "    <tr>\n",
       "      <th>279055</th>\n",
       "      <td>sadness</td>\n",
       "      <td>😭</td>\n",
       "    </tr>\n",
       "    <tr>\n",
       "      <th>463236</th>\n",
       "      <td>joy</td>\n",
       "      <td>💙</td>\n",
       "    </tr>\n",
       "    <tr>\n",
       "      <th>157317</th>\n",
       "      <td>anger</td>\n",
       "      <td>😂</td>\n",
       "    </tr>\n",
       "    <tr>\n",
       "      <th>274038</th>\n",
       "      <td>joy</td>\n",
       "      <td>😭</td>\n",
       "    </tr>\n",
       "    <tr>\n",
       "      <th>474390</th>\n",
       "      <td>joy</td>\n",
       "      <td>💙</td>\n",
       "    </tr>\n",
       "    <tr>\n",
       "      <th>363501</th>\n",
       "      <td>joy</td>\n",
       "      <td>😩</td>\n",
       "    </tr>\n",
       "    <tr>\n",
       "      <th>395009</th>\n",
       "      <td>joy</td>\n",
       "      <td>😉</td>\n",
       "    </tr>\n",
       "  </tbody>\n",
       "</table>\n",
       "</div>"
      ],
      "text/plain": [
       "       Emotions Emoji\n",
       "543276      joy     🔥\n",
       "701572  sadness     ♀\n",
       "621975      joy     👀\n",
       "379657  sadness     😩\n",
       "4125        joy     😂\n",
       "363158  sadness     😩\n",
       "439602      joy     🎉\n",
       "240510  sadness     😭\n",
       "311156    anger     😊\n",
       "664257      joy     ♂\n",
       "333273      joy     💕\n",
       "198535      joy     😂\n",
       "658495    anger     ♂\n",
       "369327      joy     😩\n",
       "394094     fear     😉\n",
       "62429   sadness     😂\n",
       "135638      joy     😂\n",
       "675831      joy     ♂\n",
       "686621    anger     ♂\n",
       "294913      joy     😊\n",
       "653054      joy     ✅\n",
       "155875      joy     😂\n",
       "106559    anger     😂\n",
       "279055  sadness     😭\n",
       "463236      joy     💙\n",
       "157317    anger     😂\n",
       "274038      joy     😭\n",
       "474390      joy     💙\n",
       "363501      joy     😩\n",
       "395009      joy     😉"
      ]
     },
     "execution_count": 144,
     "metadata": {},
     "output_type": "execute_result"
    }
   ],
   "source": [
    "# show random 30 rows to check data quality\n",
    "df_emoji_emotion[['Emotions', 'Emoji']].sample(n=30)"
   ]
  },
  {
   "cell_type": "code",
   "execution_count": 147,
   "metadata": {},
   "outputs": [],
   "source": [
    "# save the dataset as csv\n",
    "df_emoji_emotion.to_csv('../../../Desktop/capstone-data/emoji_emotion_df.csv', index=False)"
   ]
  },
  {
   "attachments": {},
   "cell_type": "markdown",
   "metadata": {},
   "source": [
    "## 2.4 Merge emoji and emotion dataset"
   ]
  },
  {
   "cell_type": "code",
   "execution_count": 148,
   "metadata": {},
   "outputs": [],
   "source": [
    "emotion_df = pd.read_csv(\"../data/emotions/train.txt\", delimiter=';', header=None, names=['Sentence','Emotions'])\n",
    "emoji_df = pd.read_csv('../../../Desktop/capstone-data/emoji_emotion_df.csv')"
   ]
  },
  {
   "cell_type": "code",
   "execution_count": 149,
   "metadata": {},
   "outputs": [
    {
     "data": {
      "text/html": [
       "<div>\n",
       "<style scoped>\n",
       "    .dataframe tbody tr th:only-of-type {\n",
       "        vertical-align: middle;\n",
       "    }\n",
       "\n",
       "    .dataframe tbody tr th {\n",
       "        vertical-align: top;\n",
       "    }\n",
       "\n",
       "    .dataframe thead th {\n",
       "        text-align: right;\n",
       "    }\n",
       "</style>\n",
       "<table border=\"1\" class=\"dataframe\">\n",
       "  <thead>\n",
       "    <tr style=\"text-align: right;\">\n",
       "      <th></th>\n",
       "      <th>Sentence</th>\n",
       "      <th>Emotions</th>\n",
       "    </tr>\n",
       "  </thead>\n",
       "  <tbody>\n",
       "    <tr>\n",
       "      <th>0</th>\n",
       "      <td>i didnt feel humiliated</td>\n",
       "      <td>sadness</td>\n",
       "    </tr>\n",
       "    <tr>\n",
       "      <th>1</th>\n",
       "      <td>i can go from feeling so hopeless to so damned...</td>\n",
       "      <td>sadness</td>\n",
       "    </tr>\n",
       "    <tr>\n",
       "      <th>2</th>\n",
       "      <td>im grabbing a minute to post i feel greedy wrong</td>\n",
       "      <td>anger</td>\n",
       "    </tr>\n",
       "    <tr>\n",
       "      <th>3</th>\n",
       "      <td>i am ever feeling nostalgic about the fireplac...</td>\n",
       "      <td>love</td>\n",
       "    </tr>\n",
       "    <tr>\n",
       "      <th>4</th>\n",
       "      <td>i am feeling grouchy</td>\n",
       "      <td>anger</td>\n",
       "    </tr>\n",
       "  </tbody>\n",
       "</table>\n",
       "</div>"
      ],
      "text/plain": [
       "                                            Sentence Emotions\n",
       "0                            i didnt feel humiliated  sadness\n",
       "1  i can go from feeling so hopeless to so damned...  sadness\n",
       "2   im grabbing a minute to post i feel greedy wrong    anger\n",
       "3  i am ever feeling nostalgic about the fireplac...     love\n",
       "4                               i am feeling grouchy    anger"
      ]
     },
     "execution_count": 149,
     "metadata": {},
     "output_type": "execute_result"
    }
   ],
   "source": [
    "# show first 5 rows\n",
    "emotion_df.head()"
   ]
  },
  {
   "cell_type": "code",
   "execution_count": 150,
   "metadata": {},
   "outputs": [
    {
     "data": {
      "text/plain": [
       "(16000, 2)"
      ]
     },
     "execution_count": 150,
     "metadata": {},
     "output_type": "execute_result"
    }
   ],
   "source": [
    "emotion_df.shape"
   ]
  },
  {
   "cell_type": "code",
   "execution_count": 151,
   "metadata": {},
   "outputs": [
    {
     "data": {
      "text/plain": [
       "joy         5362\n",
       "sadness     4666\n",
       "anger       2159\n",
       "fear        1937\n",
       "love        1304\n",
       "surprise     572\n",
       "Name: Emotions, dtype: int64"
      ]
     },
     "execution_count": 151,
     "metadata": {},
     "output_type": "execute_result"
    }
   ],
   "source": [
    "emotion_df.Emotions.value_counts()"
   ]
  },
  {
   "cell_type": "code",
   "execution_count": 121,
   "metadata": {},
   "outputs": [
    {
     "data": {
      "text/html": [
       "<div>\n",
       "<style scoped>\n",
       "    .dataframe tbody tr th:only-of-type {\n",
       "        vertical-align: middle;\n",
       "    }\n",
       "\n",
       "    .dataframe tbody tr th {\n",
       "        vertical-align: top;\n",
       "    }\n",
       "\n",
       "    .dataframe thead th {\n",
       "        text-align: right;\n",
       "    }\n",
       "</style>\n",
       "<table border=\"1\" class=\"dataframe\">\n",
       "  <thead>\n",
       "    <tr style=\"text-align: right;\">\n",
       "      <th></th>\n",
       "      <th>Emoji</th>\n",
       "      <th>Emotions</th>\n",
       "    </tr>\n",
       "  </thead>\n",
       "  <tbody>\n",
       "    <tr>\n",
       "      <th>0</th>\n",
       "      <td>💙</td>\n",
       "      <td>fear</td>\n",
       "    </tr>\n",
       "    <tr>\n",
       "      <th>1</th>\n",
       "      <td>💙</td>\n",
       "      <td>joy</td>\n",
       "    </tr>\n",
       "    <tr>\n",
       "      <th>2</th>\n",
       "      <td>💙</td>\n",
       "      <td>love</td>\n",
       "    </tr>\n",
       "    <tr>\n",
       "      <th>3</th>\n",
       "      <td>💙</td>\n",
       "      <td>joy</td>\n",
       "    </tr>\n",
       "    <tr>\n",
       "      <th>4</th>\n",
       "      <td>💙</td>\n",
       "      <td>joy</td>\n",
       "    </tr>\n",
       "  </tbody>\n",
       "</table>\n",
       "</div>"
      ],
      "text/plain": [
       "  Emoji Emotions\n",
       "0     💙     fear\n",
       "1     💙      joy\n",
       "2     💙     love\n",
       "3     💙      joy\n",
       "4     💙      joy"
      ]
     },
     "execution_count": 121,
     "metadata": {},
     "output_type": "execute_result"
    }
   ],
   "source": [
    "emoji_df.drop(['Unicode name', 'text'], axis=1, inplace=True)\n",
    "emoji_df.head()"
   ]
  },
  {
   "cell_type": "code",
   "execution_count": 152,
   "metadata": {},
   "outputs": [
    {
     "data": {
      "text/plain": [
       "741613"
      ]
     },
     "execution_count": 152,
     "metadata": {},
     "output_type": "execute_result"
    }
   ],
   "source": [
    "emoji_df.duplicated().sum()"
   ]
  },
  {
   "cell_type": "code",
   "execution_count": 153,
   "metadata": {},
   "outputs": [],
   "source": [
    "emoji_df = emoji_df.drop_duplicates()"
   ]
  },
  {
   "cell_type": "code",
   "execution_count": 154,
   "metadata": {},
   "outputs": [
    {
     "data": {
      "text/plain": [
       "0"
      ]
     },
     "execution_count": 154,
     "metadata": {},
     "output_type": "execute_result"
    }
   ],
   "source": [
    "emoji_df.duplicated().sum()"
   ]
  },
  {
   "cell_type": "code",
   "execution_count": 155,
   "metadata": {},
   "outputs": [],
   "source": [
    "# merge the two tables on 'Emotion' column\n",
    "emotion_emoji_merged = emoji_df.merge(emotion_df)"
   ]
  },
  {
   "cell_type": "code",
   "execution_count": 156,
   "metadata": {},
   "outputs": [
    {
     "data": {
      "text/html": [
       "<div>\n",
       "<style scoped>\n",
       "    .dataframe tbody tr th:only-of-type {\n",
       "        vertical-align: middle;\n",
       "    }\n",
       "\n",
       "    .dataframe tbody tr th {\n",
       "        vertical-align: top;\n",
       "    }\n",
       "\n",
       "    .dataframe thead th {\n",
       "        text-align: right;\n",
       "    }\n",
       "</style>\n",
       "<table border=\"1\" class=\"dataframe\">\n",
       "  <thead>\n",
       "    <tr style=\"text-align: right;\">\n",
       "      <th></th>\n",
       "      <th>Emoji</th>\n",
       "      <th>Emotions</th>\n",
       "      <th>Sentence</th>\n",
       "    </tr>\n",
       "  </thead>\n",
       "  <tbody>\n",
       "    <tr>\n",
       "      <th>134775</th>\n",
       "      <td>😎</td>\n",
       "      <td>joy</td>\n",
       "      <td>i feel the calm</td>\n",
       "    </tr>\n",
       "    <tr>\n",
       "      <th>22577</th>\n",
       "      <td>♂</td>\n",
       "      <td>fear</td>\n",
       "      <td>i generally only post on this site when im fee...</td>\n",
       "    </tr>\n",
       "    <tr>\n",
       "      <th>100200</th>\n",
       "      <td>✔</td>\n",
       "      <td>joy</td>\n",
       "      <td>im feeling resolved</td>\n",
       "    </tr>\n",
       "    <tr>\n",
       "      <th>92339</th>\n",
       "      <td>🌟</td>\n",
       "      <td>joy</td>\n",
       "      <td>i felt rich being able to insist on paying mor...</td>\n",
       "    </tr>\n",
       "    <tr>\n",
       "      <th>133707</th>\n",
       "      <td>😊</td>\n",
       "      <td>joy</td>\n",
       "      <td>i feel invigorated and jolly</td>\n",
       "    </tr>\n",
       "    <tr>\n",
       "      <th>319117</th>\n",
       "      <td>😭</td>\n",
       "      <td>sadness</td>\n",
       "      <td>i really feel deprived</td>\n",
       "    </tr>\n",
       "    <tr>\n",
       "      <th>145930</th>\n",
       "      <td>💖</td>\n",
       "      <td>joy</td>\n",
       "      <td>i learned in month of us manage to find anothe...</td>\n",
       "    </tr>\n",
       "    <tr>\n",
       "      <th>865</th>\n",
       "      <td>💙</td>\n",
       "      <td>fear</td>\n",
       "      <td>i feel like a wimpy blubbering fool right now</td>\n",
       "    </tr>\n",
       "    <tr>\n",
       "      <th>299098</th>\n",
       "      <td>💪</td>\n",
       "      <td>sadness</td>\n",
       "      <td>i feel like i missed the singular flight that ...</td>\n",
       "    </tr>\n",
       "    <tr>\n",
       "      <th>2463</th>\n",
       "      <td>😢</td>\n",
       "      <td>fear</td>\n",
       "      <td>i am responsible for picking a man who on occa...</td>\n",
       "    </tr>\n",
       "    <tr>\n",
       "      <th>209154</th>\n",
       "      <td>💕</td>\n",
       "      <td>love</td>\n",
       "      <td>i was sitting right next to him and i had a st...</td>\n",
       "    </tr>\n",
       "    <tr>\n",
       "      <th>359370</th>\n",
       "      <td>🏆</td>\n",
       "      <td>sadness</td>\n",
       "      <td>i feel a bit low</td>\n",
       "    </tr>\n",
       "    <tr>\n",
       "      <th>276107</th>\n",
       "      <td>😢</td>\n",
       "      <td>sadness</td>\n",
       "      <td>i feel like oh please why im so fake again but...</td>\n",
       "    </tr>\n",
       "    <tr>\n",
       "      <th>237308</th>\n",
       "      <td>😭</td>\n",
       "      <td>anger</td>\n",
       "      <td>i miss time with my husband and not feeling ru...</td>\n",
       "    </tr>\n",
       "    <tr>\n",
       "      <th>88972</th>\n",
       "      <td>😳</td>\n",
       "      <td>joy</td>\n",
       "      <td>ive found some truly wonderful people for whic...</td>\n",
       "    </tr>\n",
       "    <tr>\n",
       "      <th>20495</th>\n",
       "      <td>😭</td>\n",
       "      <td>fear</td>\n",
       "      <td>i hoped he didn t feel the shiver that ran thr...</td>\n",
       "    </tr>\n",
       "    <tr>\n",
       "      <th>279312</th>\n",
       "      <td>👀</td>\n",
       "      <td>sadness</td>\n",
       "      <td>i expect and hope the greater id feel disappoi...</td>\n",
       "    </tr>\n",
       "    <tr>\n",
       "      <th>145232</th>\n",
       "      <td>💖</td>\n",
       "      <td>joy</td>\n",
       "      <td>i feel like ive got a handle on trusting my in...</td>\n",
       "    </tr>\n",
       "    <tr>\n",
       "      <th>325198</th>\n",
       "      <td>🎉</td>\n",
       "      <td>sadness</td>\n",
       "      <td>i feel as though i am being a little neglectfu...</td>\n",
       "    </tr>\n",
       "    <tr>\n",
       "      <th>259403</th>\n",
       "      <td>💕</td>\n",
       "      <td>anger</td>\n",
       "      <td>i can t believe all the newborns that i ve pho...</td>\n",
       "    </tr>\n",
       "  </tbody>\n",
       "</table>\n",
       "</div>"
      ],
      "text/plain": [
       "       Emoji Emotions                                           Sentence\n",
       "134775     😎      joy                                    i feel the calm\n",
       "22577      ♂     fear  i generally only post on this site when im fee...\n",
       "100200     ✔      joy                                im feeling resolved\n",
       "92339      🌟      joy  i felt rich being able to insist on paying mor...\n",
       "133707     😊      joy                       i feel invigorated and jolly\n",
       "319117     😭  sadness                             i really feel deprived\n",
       "145930     💖      joy  i learned in month of us manage to find anothe...\n",
       "865        💙     fear      i feel like a wimpy blubbering fool right now\n",
       "299098     💪  sadness  i feel like i missed the singular flight that ...\n",
       "2463       😢     fear  i am responsible for picking a man who on occa...\n",
       "209154     💕     love  i was sitting right next to him and i had a st...\n",
       "359370     🏆  sadness                                   i feel a bit low\n",
       "276107     😢  sadness  i feel like oh please why im so fake again but...\n",
       "237308     😭    anger  i miss time with my husband and not feeling ru...\n",
       "88972      😳      joy  ive found some truly wonderful people for whic...\n",
       "20495      😭     fear  i hoped he didn t feel the shiver that ran thr...\n",
       "279312     👀  sadness  i expect and hope the greater id feel disappoi...\n",
       "145232     💖      joy  i feel like ive got a handle on trusting my in...\n",
       "325198     🎉  sadness  i feel as though i am being a little neglectfu...\n",
       "259403     💕    anger  i can t believe all the newborns that i ve pho..."
      ]
     },
     "execution_count": 156,
     "metadata": {},
     "output_type": "execute_result"
    }
   ],
   "source": [
    "emotion_emoji_merged.sample(n=20)"
   ]
  },
  {
   "cell_type": "code",
   "execution_count": 157,
   "metadata": {},
   "outputs": [
    {
     "data": {
      "text/plain": [
       "25"
      ]
     },
     "execution_count": 157,
     "metadata": {},
     "output_type": "execute_result"
    }
   ],
   "source": [
    "emotion_emoji_merged.duplicated().sum()"
   ]
  },
  {
   "cell_type": "code",
   "execution_count": 158,
   "metadata": {},
   "outputs": [],
   "source": [
    "emotion_emoji_merged = emotion_emoji_merged.drop_duplicates()"
   ]
  },
  {
   "cell_type": "code",
   "execution_count": 159,
   "metadata": {},
   "outputs": [
    {
     "data": {
      "text/plain": [
       "(399975, 3)"
      ]
     },
     "execution_count": 159,
     "metadata": {},
     "output_type": "execute_result"
    }
   ],
   "source": [
    "emotion_emoji_merged.shape"
   ]
  },
  {
   "cell_type": "code",
   "execution_count": 160,
   "metadata": {},
   "outputs": [
    {
     "data": {
      "text/plain": [
       "joy         134025\n",
       "sadness     116650\n",
       "anger        53975\n",
       "fear         48425\n",
       "love         32600\n",
       "surprise     14300\n",
       "Name: Emotions, dtype: int64"
      ]
     },
     "execution_count": 160,
     "metadata": {},
     "output_type": "execute_result"
    }
   ],
   "source": [
    "emotion_emoji_merged['Emotions'].value_counts()"
   ]
  },
  {
   "cell_type": "code",
   "execution_count": 161,
   "metadata": {},
   "outputs": [
    {
     "data": {
      "text/plain": [
       "<seaborn.axisgrid.FacetGrid at 0x25aecd159a0>"
      ]
     },
     "execution_count": 161,
     "metadata": {},
     "output_type": "execute_result"
    },
    {
     "data": {
      "image/png": "[encoded data removed]",
      "text/plain": [
       "<Figure size 500x500 with 1 Axes>"
      ]
     },
     "metadata": {},
     "output_type": "display_data"
    }
   ],
   "source": [
    "import seaborn as sns\n",
    "sns.set_palette(\"pastel\")\n",
    "sns.displot(emotion_emoji_merged, x=\"Emotions\")"
   ]
  },
  {
   "cell_type": "code",
   "execution_count": 162,
   "metadata": {},
   "outputs": [],
   "source": [
    "# save the dataset as csv\n",
    "emotion_emoji_merged.to_csv('../../../Desktop/capstone-data/emoji_emotion_merged.csv', index=False)"
   ]
  },
  {
   "attachments": {},
   "cell_type": "markdown",
   "metadata": {},
   "source": [
    "# Part III: Text emoji recommendation\n",
    "In this lat part, we train a new model to take the text and recommends an emoji based on that text. The feature is the text and the target variable is the emoji. First we're going to apply multinomial naive bayes classifier which is one of the most popular machine learning algorithm in natural language processing., then try building a deep learning neural network and compare results."
   ]
  },
  {
   "attachments": {},
   "cell_type": "markdown",
   "metadata": {},
   "source": [
    "## 3.1 Prerequisites"
   ]
  },
  {
   "cell_type": "code",
   "execution_count": 163,
   "metadata": {},
   "outputs": [],
   "source": [
    "import numpy as np\n",
    "import nltk\n",
    "from tkinter import *\n",
    "from matplotlib import pyplot as plt\n",
    "import scipy\n",
    "import re\n",
    "from nltk.corpus import stopwords\n",
    "from tensorflow.python import keras\n",
    "import string\n",
    "from keras.layers import Dense, Activation, Input, Dropout, SimpleRNN, LSTM\n",
    "from keras.models import Model, Sequential\n",
    "from keras.utils import to_categorical\n",
    "from sklearn.model_selection import train_test_split\n",
    "from sklearn.naive_bayes import MultinomialNB\n",
    "import seaborn as sns\n",
    "\n"
   ]
  },
  {
   "attachments": {},
   "cell_type": "markdown",
   "metadata": {},
   "source": [
    "## 3.2 Text preprocessing"
   ]
  },
  {
   "cell_type": "code",
   "execution_count": 164,
   "metadata": {},
   "outputs": [],
   "source": [
    "# read dataset\n",
    "emotion_emoji_merged = pd.read_csv('../../../Desktop/capstone-data/emoji_emotion_merged.csv')"
   ]
  },
  {
   "cell_type": "code",
   "execution_count": 165,
   "metadata": {},
   "outputs": [
    {
     "data": {
      "text/html": [
       "<div>\n",
       "<style scoped>\n",
       "    .dataframe tbody tr th:only-of-type {\n",
       "        vertical-align: middle;\n",
       "    }\n",
       "\n",
       "    .dataframe tbody tr th {\n",
       "        vertical-align: top;\n",
       "    }\n",
       "\n",
       "    .dataframe thead th {\n",
       "        text-align: right;\n",
       "    }\n",
       "</style>\n",
       "<table border=\"1\" class=\"dataframe\">\n",
       "  <thead>\n",
       "    <tr style=\"text-align: right;\">\n",
       "      <th></th>\n",
       "      <th>Emoji</th>\n",
       "      <th>Emotions</th>\n",
       "      <th>Sentence</th>\n",
       "    </tr>\n",
       "  </thead>\n",
       "  <tbody>\n",
       "    <tr>\n",
       "      <th>0</th>\n",
       "      <td>💙</td>\n",
       "      <td>fear</td>\n",
       "      <td>i feel as confused about life as a teenager or...</td>\n",
       "    </tr>\n",
       "    <tr>\n",
       "      <th>1</th>\n",
       "      <td>💙</td>\n",
       "      <td>fear</td>\n",
       "      <td>i now feel compromised and skeptical of the va...</td>\n",
       "    </tr>\n",
       "    <tr>\n",
       "      <th>2</th>\n",
       "      <td>💙</td>\n",
       "      <td>fear</td>\n",
       "      <td>i am feeling completely overwhelmed i have two...</td>\n",
       "    </tr>\n",
       "    <tr>\n",
       "      <th>3</th>\n",
       "      <td>💙</td>\n",
       "      <td>fear</td>\n",
       "      <td>i remember feeling acutely distressed for a fe...</td>\n",
       "    </tr>\n",
       "    <tr>\n",
       "      <th>4</th>\n",
       "      <td>💙</td>\n",
       "      <td>fear</td>\n",
       "      <td>i was stymied a little bit as i wrote feeling ...</td>\n",
       "    </tr>\n",
       "  </tbody>\n",
       "</table>\n",
       "</div>"
      ],
      "text/plain": [
       "  Emoji Emotions                                           Sentence\n",
       "0     💙     fear  i feel as confused about life as a teenager or...\n",
       "1     💙     fear  i now feel compromised and skeptical of the va...\n",
       "2     💙     fear  i am feeling completely overwhelmed i have two...\n",
       "3     💙     fear  i remember feeling acutely distressed for a fe...\n",
       "4     💙     fear  i was stymied a little bit as i wrote feeling ..."
      ]
     },
     "execution_count": 165,
     "metadata": {},
     "output_type": "execute_result"
    }
   ],
   "source": [
    "emotion_emoji_merged.head()"
   ]
  },
  {
   "cell_type": "code",
   "execution_count": 166,
   "metadata": {},
   "outputs": [
    {
     "name": "stdout",
     "output_type": "stream",
     "text": [
      "(267983,) (267983,)\n"
     ]
    }
   ],
   "source": [
    "# split the data\n",
    "X = emotion_emoji_merged['Sentence']\n",
    "y = emotion_emoji_merged['Emoji']\n",
    "\n",
    "X_train, X_test, y_train, y_test = train_test_split(X, y, test_size=0.33, random_state=42)\n",
    "\n",
    "print(X_train.shape, y_train.shape)"
   ]
  },
  {
   "cell_type": "code",
   "execution_count": 167,
   "metadata": {},
   "outputs": [
    {
     "data": {
      "text/plain": [
       "<seaborn.axisgrid.FacetGrid at 0x25ae38af760>"
      ]
     },
     "execution_count": 167,
     "metadata": {},
     "output_type": "execute_result"
    },
    {
     "data": {
      "image/png": "[encoded data removed]",
      "text/plain": [
       "<Figure size 500x500 with 1 Axes>"
      ]
     },
     "metadata": {},
     "output_type": "display_data"
    }
   ],
   "source": [
    "sns.displot(emotion_emoji_merged, x=\"Emotions\")"
   ]
  },
  {
   "attachments": {},
   "cell_type": "markdown",
   "metadata": {},
   "source": [
    "### 3.2.1 Embeddings"
   ]
  },
  {
   "cell_type": "code",
   "execution_count": 168,
   "metadata": {},
   "outputs": [],
   "source": [
    "# create an embedding matrix using golve vectors from pre-trained models\n",
    "file = open(\"../../../Desktop/glove.6B/glove.6B.50d.txt\", encoding = 'utf8')\n"
   ]
  },
  {
   "cell_type": "code",
   "execution_count": 169,
   "metadata": {},
   "outputs": [],
   "source": [
    "# function that creates a dictionary where the key is the word and the values are all the embeddings\n",
    "# the dictionary that will hold the mappings between words, and the embedding vectors of those words\n",
    "def intialize_emb_matrix(file):\n",
    "    embedding_matrix = {}\n",
    "    for line in file:\n",
    "        values = line.split()\n",
    "        word = values[0]\n",
    "        embedding = np.array(values[1:], dtype='float64')\n",
    "        embedding_matrix[word] = embedding\n",
    "\n",
    "    return embedding_matrix \n",
    "embedding_matrix = intialize_emb_matrix(file)"
   ]
  },
  {
   "cell_type": "code",
   "execution_count": 170,
   "metadata": {},
   "outputs": [
    {
     "data": {
      "text/plain": [
       "array([-0.53646 , -0.072432,  0.24182 ,  0.099021,  0.18426 , -0.86764 ,\n",
       "        0.081939,  0.40473 , -0.40506 ,  0.47446 , -0.16865 ,  0.38936 ,\n",
       "       -0.16916 ,  0.1661  ,  0.73543 ,  0.83612 ,  0.026771,  0.56956 ,\n",
       "        0.41988 , -0.23297 , -0.58841 ,  0.5495  ,  0.71645 ,  0.22451 ,\n",
       "        1.0043  , -1.5036  , -0.78521 ,  0.73364 ,  0.4161  , -1.6782  ,\n",
       "        1.9156  ,  0.26593 , -0.41546 ,  0.97965 , -0.06039 , -0.74422 ,\n",
       "        0.6166  , -0.023109,  0.77383 , -0.65267 , -0.20022 , -0.2479  ,\n",
       "        0.04704 ,  0.31407 ,  0.32598 , -0.24481 ,  0.16835 ,  0.097793,\n",
       "        0.12392 ,  1.1584  ])"
      ]
     },
     "execution_count": 170,
     "metadata": {},
     "output_type": "execute_result"
    }
   ],
   "source": [
    "# This is the vector of the word’s position\n",
    "embedding_matrix['ok']"
   ]
  },
  {
   "cell_type": "code",
   "execution_count": 171,
   "metadata": {},
   "outputs": [],
   "source": [
    "# embedding our text dataset\n",
    "# note: we shouldn't remove stop words before embedding \n",
    "# because that would remove semantic structure \n",
    "# that we need for our model to work well\n",
    "def get_emb_data(data, max_len):\n",
    "    embedding_data = np.zeros((len(data), max_len, 50))  # from glove6B50d\n",
    "    \n",
    "    for idx in range(data.shape[0]):\n",
    "        words_in_sentence = data[idx].split()\n",
    "        \n",
    "        for i in range(len(words_in_sentence)):\n",
    "            if embedding_matrix.get(words_in_sentence[i].lower()) is not None:\n",
    "                embedding_data[idx][i] = embedding_matrix[words_in_sentence[i].lower()]\n",
    "                \n",
    "    return embedding_data"
   ]
  },
  {
   "cell_type": "code",
   "execution_count": 177,
   "metadata": {},
   "outputs": [
    {
     "ename": "MemoryError",
     "evalue": "Unable to allocate 16.8 GiB for an array with shape (267983, 168, 50) and data type float64",
     "output_type": "error",
     "traceback": [
      "\u001b[1;31m---------------------------------------------------------------------------\u001b[0m",
      "\u001b[1;31mMemoryError\u001b[0m                               Traceback (most recent call last)",
      "Cell \u001b[1;32mIn[177], line 1\u001b[0m\n\u001b[1;32m----> 1\u001b[0m embedding_data1 \u001b[39m=\u001b[39m np\u001b[39m.\u001b[39;49mzeros((\u001b[39mlen\u001b[39;49m(X_train), \u001b[39m168\u001b[39;49m, \u001b[39m50\u001b[39;49m))\n",
      "\u001b[1;31mMemoryError\u001b[0m: Unable to allocate 16.8 GiB for an array with shape (267983, 168, 50) and data type float64"
     ]
    }
   ],
   "source": [
    "embedding_data1 = np.zeros((len(X_train), 168, 50))"
   ]
  },
  {
   "cell_type": "code",
   "execution_count": 174,
   "metadata": {},
   "outputs": [
    {
     "data": {
      "text/plain": [
       "203740    im feeling the way shes not caring for me the ...\n",
       "325468    i see myself starting to feel the emotional de...\n",
       "216444             i feel like thats what vicious circle is\n",
       "220133    i hope i did not make you feel greedy o shit i...\n",
       "91169     i feel so smart even though its really easy to...\n",
       "                                ...                        \n",
       "259178    i feel so so tortured by looking at the lectur...\n",
       "365838    i really hope so i feel so isolated right now ...\n",
       "131932    i feel so thankful i have been able to figure ...\n",
       "146867    i remember feeling as innocent as she looked t...\n",
       "121958                     i need to feel personally valued\n",
       "Name: Sentence, Length: 267983, dtype: object"
      ]
     },
     "execution_count": 174,
     "metadata": {},
     "output_type": "execute_result"
    }
   ],
   "source": [
    "X_train"
   ]
  },
  {
   "cell_type": "code",
   "execution_count": 173,
   "metadata": {},
   "outputs": [
    {
     "ename": "KeyError",
     "evalue": "0",
     "output_type": "error",
     "traceback": [
      "\u001b[1;31m---------------------------------------------------------------------------\u001b[0m",
      "\u001b[1;31mKeyError\u001b[0m                                  Traceback (most recent call last)",
      "File \u001b[1;32mc:\\Users\\Lujai\\anaconda3\\envs\\capstone-proj\\lib\\site-packages\\pandas\\core\\indexes\\base.py:3803\u001b[0m, in \u001b[0;36mIndex.get_loc\u001b[1;34m(self, key, method, tolerance)\u001b[0m\n\u001b[0;32m   3802\u001b[0m \u001b[39mtry\u001b[39;00m:\n\u001b[1;32m-> 3803\u001b[0m     \u001b[39mreturn\u001b[39;00m \u001b[39mself\u001b[39;49m\u001b[39m.\u001b[39;49m_engine\u001b[39m.\u001b[39;49mget_loc(casted_key)\n\u001b[0;32m   3804\u001b[0m \u001b[39mexcept\u001b[39;00m \u001b[39mKeyError\u001b[39;00m \u001b[39mas\u001b[39;00m err:\n",
      "File \u001b[1;32mc:\\Users\\Lujai\\anaconda3\\envs\\capstone-proj\\lib\\site-packages\\pandas\\_libs\\index.pyx:138\u001b[0m, in \u001b[0;36mpandas._libs.index.IndexEngine.get_loc\u001b[1;34m()\u001b[0m\n",
      "File \u001b[1;32mc:\\Users\\Lujai\\anaconda3\\envs\\capstone-proj\\lib\\site-packages\\pandas\\_libs\\index.pyx:165\u001b[0m, in \u001b[0;36mpandas._libs.index.IndexEngine.get_loc\u001b[1;34m()\u001b[0m\n",
      "File \u001b[1;32mpandas\\_libs\\hashtable_class_helper.pxi:2263\u001b[0m, in \u001b[0;36mpandas._libs.hashtable.Int64HashTable.get_item\u001b[1;34m()\u001b[0m\n",
      "File \u001b[1;32mpandas\\_libs\\hashtable_class_helper.pxi:2273\u001b[0m, in \u001b[0;36mpandas._libs.hashtable.Int64HashTable.get_item\u001b[1;34m()\u001b[0m\n",
      "\u001b[1;31mKeyError\u001b[0m: 0",
      "\nThe above exception was the direct cause of the following exception:\n",
      "\u001b[1;31mKeyError\u001b[0m                                  Traceback (most recent call last)",
      "Cell \u001b[1;32mIn[173], line 2\u001b[0m\n\u001b[0;32m      1\u001b[0m \u001b[39m# get embedding for train daata\u001b[39;00m\n\u001b[1;32m----> 2\u001b[0m X_train_emb \u001b[39m=\u001b[39m get_emb_data(X_train, \u001b[39m168\u001b[39;49m)\n\u001b[0;32m      3\u001b[0m \u001b[39m# training data after embedding\u001b[39;00m\n\u001b[0;32m      4\u001b[0m X_train_emb\n",
      "Cell \u001b[1;32mIn[171], line 9\u001b[0m, in \u001b[0;36mget_emb_data\u001b[1;34m(data, max_len)\u001b[0m\n\u001b[0;32m      6\u001b[0m embedding_data \u001b[39m=\u001b[39m np\u001b[39m.\u001b[39mzeros((\u001b[39mlen\u001b[39m(data), max_len, \u001b[39m50\u001b[39m))  \u001b[39m# from glove6B50d\u001b[39;00m\n\u001b[0;32m      8\u001b[0m \u001b[39mfor\u001b[39;00m idx \u001b[39min\u001b[39;00m \u001b[39mrange\u001b[39m(data\u001b[39m.\u001b[39mshape[\u001b[39m0\u001b[39m]):\n\u001b[1;32m----> 9\u001b[0m     words_in_sentence \u001b[39m=\u001b[39m data[idx]\u001b[39m.\u001b[39msplit()\n\u001b[0;32m     11\u001b[0m     \u001b[39mfor\u001b[39;00m i \u001b[39min\u001b[39;00m \u001b[39mrange\u001b[39m(\u001b[39mlen\u001b[39m(words_in_sentence)):\n\u001b[0;32m     12\u001b[0m         \u001b[39mif\u001b[39;00m embedding_matrix\u001b[39m.\u001b[39mget(words_in_sentence[i]\u001b[39m.\u001b[39mlower()) \u001b[39mis\u001b[39;00m \u001b[39mnot\u001b[39;00m \u001b[39mNone\u001b[39;00m:\n",
      "File \u001b[1;32mc:\\Users\\Lujai\\anaconda3\\envs\\capstone-proj\\lib\\site-packages\\pandas\\core\\series.py:981\u001b[0m, in \u001b[0;36mSeries.__getitem__\u001b[1;34m(self, key)\u001b[0m\n\u001b[0;32m    978\u001b[0m     \u001b[39mreturn\u001b[39;00m \u001b[39mself\u001b[39m\u001b[39m.\u001b[39m_values[key]\n\u001b[0;32m    980\u001b[0m \u001b[39melif\u001b[39;00m key_is_scalar:\n\u001b[1;32m--> 981\u001b[0m     \u001b[39mreturn\u001b[39;00m \u001b[39mself\u001b[39;49m\u001b[39m.\u001b[39;49m_get_value(key)\n\u001b[0;32m    983\u001b[0m \u001b[39mif\u001b[39;00m is_hashable(key):\n\u001b[0;32m    984\u001b[0m     \u001b[39m# Otherwise index.get_value will raise InvalidIndexError\u001b[39;00m\n\u001b[0;32m    985\u001b[0m     \u001b[39mtry\u001b[39;00m:\n\u001b[0;32m    986\u001b[0m         \u001b[39m# For labels that don't resolve as scalars like tuples and frozensets\u001b[39;00m\n",
      "File \u001b[1;32mc:\\Users\\Lujai\\anaconda3\\envs\\capstone-proj\\lib\\site-packages\\pandas\\core\\series.py:1089\u001b[0m, in \u001b[0;36mSeries._get_value\u001b[1;34m(self, label, takeable)\u001b[0m\n\u001b[0;32m   1086\u001b[0m     \u001b[39mreturn\u001b[39;00m \u001b[39mself\u001b[39m\u001b[39m.\u001b[39m_values[label]\n\u001b[0;32m   1088\u001b[0m \u001b[39m# Similar to Index.get_value, but we do not fall back to positional\u001b[39;00m\n\u001b[1;32m-> 1089\u001b[0m loc \u001b[39m=\u001b[39m \u001b[39mself\u001b[39;49m\u001b[39m.\u001b[39;49mindex\u001b[39m.\u001b[39;49mget_loc(label)\n\u001b[0;32m   1090\u001b[0m \u001b[39mreturn\u001b[39;00m \u001b[39mself\u001b[39m\u001b[39m.\u001b[39mindex\u001b[39m.\u001b[39m_get_values_for_loc(\u001b[39mself\u001b[39m, loc, label)\n",
      "File \u001b[1;32mc:\\Users\\Lujai\\anaconda3\\envs\\capstone-proj\\lib\\site-packages\\pandas\\core\\indexes\\base.py:3805\u001b[0m, in \u001b[0;36mIndex.get_loc\u001b[1;34m(self, key, method, tolerance)\u001b[0m\n\u001b[0;32m   3803\u001b[0m     \u001b[39mreturn\u001b[39;00m \u001b[39mself\u001b[39m\u001b[39m.\u001b[39m_engine\u001b[39m.\u001b[39mget_loc(casted_key)\n\u001b[0;32m   3804\u001b[0m \u001b[39mexcept\u001b[39;00m \u001b[39mKeyError\u001b[39;00m \u001b[39mas\u001b[39;00m err:\n\u001b[1;32m-> 3805\u001b[0m     \u001b[39mraise\u001b[39;00m \u001b[39mKeyError\u001b[39;00m(key) \u001b[39mfrom\u001b[39;00m \u001b[39merr\u001b[39;00m\n\u001b[0;32m   3806\u001b[0m \u001b[39mexcept\u001b[39;00m \u001b[39mTypeError\u001b[39;00m:\n\u001b[0;32m   3807\u001b[0m     \u001b[39m# If we have a listlike key, _check_indexing_error will raise\u001b[39;00m\n\u001b[0;32m   3808\u001b[0m     \u001b[39m#  InvalidIndexError. Otherwise we fall through and re-raise\u001b[39;00m\n\u001b[0;32m   3809\u001b[0m     \u001b[39m#  the TypeError.\u001b[39;00m\n\u001b[0;32m   3810\u001b[0m     \u001b[39mself\u001b[39m\u001b[39m.\u001b[39m_check_indexing_error(key)\n",
      "\u001b[1;31mKeyError\u001b[0m: 0"
     ]
    }
   ],
   "source": [
    "# get embedding for train daata\n",
    "X_train_emb = get_emb_data(X_train, 168)\n",
    "# training data after embedding\n",
    "X_train_emb\n",
    "# get embedding for test data\n",
    "X_test_emb = get_emb_data(X_test, 168)"
   ]
  },
  {
   "cell_type": "code",
   "execution_count": 175,
   "metadata": {},
   "outputs": [],
   "source": [
    "from scipy.spatial import distance\n",
    "def find_closest_embeddings(embedding):\n",
    "    return sorted(embedding_matrix.keys(), key=lambda word: distance.euclidean(embedding_matrix[word], embedding))\n"
   ]
  },
  {
   "cell_type": "code",
   "execution_count": 176,
   "metadata": {},
   "outputs": [
    {
     "name": "stdout",
     "output_type": "stream",
     "text": [
      "['print', 'sheet', 'printed', 'printing', 'ink']\n"
     ]
    }
   ],
   "source": [
    "print(find_closest_embeddings(embedding_matrix[\"paper\"])[1:6])"
   ]
  },
  {
   "attachments": {},
   "cell_type": "markdown",
   "metadata": {},
   "source": [
    "### 3.2.2 Encoding the target variable"
   ]
  },
  {
   "cell_type": "code",
   "execution_count": null,
   "metadata": {},
   "outputs": [],
   "source": [
    "# converting y_train to one hot vectors so that cross-entropy loss can be used\n",
    "y_train = to_categorical(y_train)\n",
    "y_train"
   ]
  },
  {
   "cell_type": "code",
   "execution_count": null,
   "metadata": {},
   "outputs": [],
   "source": [
    "y_test = to_categorical(y_test)\n",
    "y_test"
   ]
  },
  {
   "attachments": {},
   "cell_type": "markdown",
   "metadata": {},
   "source": [
    "## 3.3 Naive Bayes"
   ]
  },
  {
   "attachments": {},
   "cell_type": "markdown",
   "metadata": {},
   "source": [
    "### 3.3.1 Model building"
   ]
  },
  {
   "cell_type": "code",
   "execution_count": null,
   "metadata": {},
   "outputs": [],
   "source": [
    "# create the model\n",
    "NBmodel = MultinomialNB()\n",
    "# fit the model\n",
    "NBmodel.fit(X_train_emb, y_train)"
   ]
  },
  {
   "attachments": {},
   "cell_type": "markdown",
   "metadata": {},
   "source": [
    "### 3.3.2 Model testing"
   ]
  },
  {
   "cell_type": "code",
   "execution_count": null,
   "metadata": {},
   "outputs": [],
   "source": [
    "NB_y_pred = NBmodel.predict(X_test_emb)"
   ]
  },
  {
   "cell_type": "code",
   "execution_count": null,
   "metadata": {},
   "outputs": [],
   "source": [
    "plt.figure(figsize=(6, 6))\n",
    "\n",
    "# use displot for newer versions\n",
    "ax1 = sns.distplot(y_test, hist=False, color=\"r\", label=\"Actual Values\")\n",
    "sns.distplot(NB_y_pred, hist=False, color=\"b\", label=\"Predicted Values\" , ax=ax1)\n",
    "\n",
    "\n",
    "plt.title('Actual vs Predicted Values')\n",
    "plt.xlabel('')\n",
    "plt.ylabel('')\n",
    "\n",
    "plt.show()\n",
    "plt.close()"
   ]
  },
  {
   "attachments": {},
   "cell_type": "markdown",
   "metadata": {},
   "source": [
    "## 3.4 LSTM"
   ]
  },
  {
   "attachments": {},
   "cell_type": "markdown",
   "metadata": {},
   "source": [
    "### 3.4.1 Model building"
   ]
  },
  {
   "cell_type": "code",
   "execution_count": null,
   "metadata": {},
   "outputs": [],
   "source": [
    "model = Sequential()"
   ]
  },
  {
   "cell_type": "code",
   "execution_count": null,
   "metadata": {},
   "outputs": [],
   "source": [
    "# try different dropouts\n",
    "model.add(LSTM(units = 256, return_sequences=True, input_shape = (168,50)))\n",
    "model.add(Dropout(0.3))\n",
    "model.add(LSTM(units=128))\n",
    "model.add(Dropout(0.3))\n",
    "model.add(Dense(units=128, activation='relu'))\n",
    "model.add(Dense(units=64, activation='relu'))\n",
    "model.add(Dense(units=32, activation='relu'))\n",
    "model.add(Dense(units=20, activation='relu'))\n",
    "model.add(Dense(units=20, activation='softmax'))"
   ]
  },
  {
   "cell_type": "code",
   "execution_count": null,
   "metadata": {},
   "outputs": [],
   "source": [
    "model.summary()"
   ]
  },
  {
   "cell_type": "code",
   "execution_count": null,
   "metadata": {},
   "outputs": [],
   "source": [
    "# try different optimizers\n",
    "model.compile(optimizer='adam', loss=keras.losses.categorical_crossentropy, metrics=['acc'])"
   ]
  },
  {
   "attachments": {},
   "cell_type": "markdown",
   "metadata": {},
   "source": [
    "### 3.4.2 Model training"
   ]
  },
  {
   "cell_type": "code",
   "execution_count": null,
   "metadata": {},
   "outputs": [],
   "source": [
    "# try different validation split\n",
    "# try different epochs\n",
    "res = model.fit(X_train_emb, y_train, validation_split=0.2, batch_size=32, epochs=100, verbose=2)"
   ]
  },
  {
   "attachments": {},
   "cell_type": "markdown",
   "metadata": {},
   "source": [
    "### 3.4.3 Model performance overview"
   ]
  },
  {
   "cell_type": "code",
   "execution_count": null,
   "metadata": {},
   "outputs": [],
   "source": [
    "# Loss and accuracy plots"
   ]
  },
  {
   "attachments": {},
   "cell_type": "markdown",
   "metadata": {},
   "source": [
    "### 3.4.4 Confusion matrix and correlation report"
   ]
  },
  {
   "cell_type": "code",
   "execution_count": null,
   "metadata": {},
   "outputs": [],
   "source": []
  },
  {
   "attachments": {},
   "cell_type": "markdown",
   "metadata": {},
   "source": [
    "## 3.5 Conclusion"
   ]
  },
  {
   "attachments": {},
   "cell_type": "markdown",
   "metadata": {},
   "source": [
    "compare my results to other models?\n",
    "- https://www.kaggle.com/code/satwiksrivastava/emoji-prediction/notebook\n",
    "- https://huggingface.co/spaces/ml6team/emoji_predictor\n",
    "- "
   ]
  },
  {
   "attachments": {},
   "cell_type": "markdown",
   "metadata": {},
   "source": [
    "### Bayes rule\n",
    "1. vector len 6 {freq of each emotion var t}\n",
    "2. vector len 25 {freq of each emoji var j}\n",
    "3. matrix size 25x6 {keys: j, values: t } \n",
    "    and j,t entry has freq of emotion t given emoji j\n",
    "### Use bayes to create another table\n",
    "4. matrix 6x25 {keys: t, values: j} \n",
    "    and t,j entry is prob of emoji j given emotion t"
   ]
  }
 ],
 "metadata": {
  "kernelspec": {
   "display_name": "Python 3.8.15 ('capstone-proj')",
   "language": "python",
   "name": "python3"
  },
  "language_info": {
   "codemirror_mode": {
    "name": "ipython",
    "version": 3
   },
   "file_extension": ".py",
   "mimetype": "text/x-python",
   "name": "python",
   "nbconvert_exporter": "python",
   "pygments_lexer": "ipython3",
   "version": "3.8.15"
  },
  "orig_nbformat": 4,
  "vscode": {
   "interpreter": {
    "hash": "11b89a8208dc62c4b368a2fc84cebd8a1aafdd7a9e7b8f254ebc1eaaea760d8b"
   }
  }
 },
 "nbformat": 4,
 "nbformat_minor": 2
}
